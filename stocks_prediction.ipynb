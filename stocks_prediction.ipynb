{
 "cells": [
  {
   "cell_type": "code",
   "execution_count": 1,
   "id": "de02a869-04bb-401d-80f6-904120025e91",
   "metadata": {},
   "outputs": [
    {
     "name": "stdout",
     "output_type": "stream",
     "text": [
      "Requirement already satisfied: yfinance in c:\\users\\dell\\stocks\\env\\lib\\site-packages (0.2.40)\n",
      "Requirement already satisfied: pandas>=1.3.0 in c:\\users\\dell\\appdata\\roaming\\python\\python312\\site-packages (from yfinance) (2.2.2)\n",
      "Requirement already satisfied: numpy>=1.16.5 in c:\\users\\dell\\stocks\\env\\lib\\site-packages (from yfinance) (1.26.4)\n",
      "Requirement already satisfied: requests>=2.31 in c:\\users\\dell\\appdata\\roaming\\python\\python312\\site-packages (from yfinance) (2.31.0)\n",
      "Requirement already satisfied: multitasking>=0.0.7 in c:\\users\\dell\\stocks\\env\\lib\\site-packages (from yfinance) (0.0.11)\n",
      "Requirement already satisfied: lxml>=4.9.1 in c:\\users\\dell\\stocks\\env\\lib\\site-packages (from yfinance) (5.2.2)\n",
      "Requirement already satisfied: platformdirs>=2.0.0 in c:\\users\\dell\\stocks\\env\\lib\\site-packages (from yfinance) (3.10.0)\n",
      "Requirement already satisfied: pytz>=2022.5 in c:\\users\\dell\\appdata\\roaming\\python\\python312\\site-packages (from yfinance) (2024.1)\n",
      "Requirement already satisfied: frozendict>=2.3.4 in c:\\users\\dell\\stocks\\env\\lib\\site-packages (from yfinance) (2.4.4)\n",
      "Requirement already satisfied: peewee>=3.16.2 in c:\\users\\dell\\stocks\\env\\lib\\site-packages (from yfinance) (3.17.5)\n",
      "Requirement already satisfied: beautifulsoup4>=4.11.1 in c:\\users\\dell\\stocks\\env\\lib\\site-packages (from yfinance) (4.12.2)\n",
      "Requirement already satisfied: html5lib>=1.1 in c:\\users\\dell\\stocks\\env\\lib\\site-packages (from yfinance) (1.1)\n",
      "Requirement already satisfied: soupsieve>1.2 in c:\\users\\dell\\stocks\\env\\lib\\site-packages (from beautifulsoup4>=4.11.1->yfinance) (2.5)\n",
      "Requirement already satisfied: six>=1.9 in c:\\users\\dell\\appdata\\roaming\\python\\python312\\site-packages (from html5lib>=1.1->yfinance) (1.16.0)\n",
      "Requirement already satisfied: webencodings in c:\\users\\dell\\stocks\\env\\lib\\site-packages (from html5lib>=1.1->yfinance) (0.5.1)\n",
      "Requirement already satisfied: python-dateutil>=2.8.2 in c:\\users\\dell\\appdata\\roaming\\python\\python312\\site-packages (from pandas>=1.3.0->yfinance) (2.9.0.post0)\n",
      "Requirement already satisfied: tzdata>=2022.7 in c:\\users\\dell\\appdata\\roaming\\python\\python312\\site-packages (from pandas>=1.3.0->yfinance) (2024.1)\n",
      "Requirement already satisfied: charset-normalizer<4,>=2 in c:\\users\\dell\\appdata\\roaming\\python\\python312\\site-packages (from requests>=2.31->yfinance) (3.3.2)\n",
      "Requirement already satisfied: idna<4,>=2.5 in c:\\users\\dell\\appdata\\roaming\\python\\python312\\site-packages (from requests>=2.31->yfinance) (3.7)\n",
      "Requirement already satisfied: urllib3<3,>=1.21.1 in c:\\users\\dell\\appdata\\roaming\\python\\python312\\site-packages (from requests>=2.31->yfinance) (2.2.1)\n",
      "Requirement already satisfied: certifi>=2017.4.17 in c:\\users\\dell\\appdata\\roaming\\python\\python312\\site-packages (from requests>=2.31->yfinance) (2024.2.2)\n",
      "Note: you may need to restart the kernel to use updated packages.\n"
     ]
    }
   ],
   "source": [
    "pip install yfinance"
   ]
  },
  {
   "cell_type": "code",
   "execution_count": null,
   "id": "00e69e47-4771-4afa-b590-4ed896a90291",
   "metadata": {},
   "outputs": [],
   "source": []
  },
  {
   "cell_type": "code",
   "execution_count": 2,
   "id": "f615fafc-9583-4466-abcb-f211697e3c9f",
   "metadata": {},
   "outputs": [],
   "source": [
    "import numpy as np\n",
    "import pandas as pd\n",
    "import matplotlib.pyplot as plt\n",
    "import yfinance as yf"
   ]
  },
  {
   "cell_type": "code",
   "execution_count": 3,
   "id": "bca2130c-0582-457d-b651-211cd2cecf6c",
   "metadata": {},
   "outputs": [
    {
     "name": "stderr",
     "output_type": "stream",
     "text": [
      "[*********************100%%**********************]  1 of 1 completed\n"
     ]
    },
    {
     "data": {
      "text/html": [
       "<div>\n",
       "<style scoped>\n",
       "    .dataframe tbody tr th:only-of-type {\n",
       "        vertical-align: middle;\n",
       "    }\n",
       "\n",
       "    .dataframe tbody tr th {\n",
       "        vertical-align: top;\n",
       "    }\n",
       "\n",
       "    .dataframe thead th {\n",
       "        text-align: right;\n",
       "    }\n",
       "</style>\n",
       "<table border=\"1\" class=\"dataframe\">\n",
       "  <thead>\n",
       "    <tr style=\"text-align: right;\">\n",
       "      <th></th>\n",
       "      <th>Open</th>\n",
       "      <th>High</th>\n",
       "      <th>Low</th>\n",
       "      <th>Close</th>\n",
       "      <th>Adj Close</th>\n",
       "      <th>Volume</th>\n",
       "    </tr>\n",
       "    <tr>\n",
       "      <th>Date</th>\n",
       "      <th></th>\n",
       "      <th></th>\n",
       "      <th></th>\n",
       "      <th></th>\n",
       "      <th></th>\n",
       "      <th></th>\n",
       "    </tr>\n",
       "  </thead>\n",
       "  <tbody>\n",
       "    <tr>\n",
       "      <th>2010-01-04</th>\n",
       "      <td>7.622500</td>\n",
       "      <td>7.660714</td>\n",
       "      <td>7.585000</td>\n",
       "      <td>7.643214</td>\n",
       "      <td>6.461977</td>\n",
       "      <td>493729600</td>\n",
       "    </tr>\n",
       "    <tr>\n",
       "      <th>2010-01-05</th>\n",
       "      <td>7.664286</td>\n",
       "      <td>7.699643</td>\n",
       "      <td>7.616071</td>\n",
       "      <td>7.656429</td>\n",
       "      <td>6.473148</td>\n",
       "      <td>601904800</td>\n",
       "    </tr>\n",
       "    <tr>\n",
       "      <th>2010-01-06</th>\n",
       "      <td>7.656429</td>\n",
       "      <td>7.686786</td>\n",
       "      <td>7.526786</td>\n",
       "      <td>7.534643</td>\n",
       "      <td>6.370184</td>\n",
       "      <td>552160000</td>\n",
       "    </tr>\n",
       "    <tr>\n",
       "      <th>2010-01-07</th>\n",
       "      <td>7.562500</td>\n",
       "      <td>7.571429</td>\n",
       "      <td>7.466071</td>\n",
       "      <td>7.520714</td>\n",
       "      <td>6.358408</td>\n",
       "      <td>477131200</td>\n",
       "    </tr>\n",
       "    <tr>\n",
       "      <th>2010-01-08</th>\n",
       "      <td>7.510714</td>\n",
       "      <td>7.571429</td>\n",
       "      <td>7.466429</td>\n",
       "      <td>7.570714</td>\n",
       "      <td>6.400681</td>\n",
       "      <td>447610800</td>\n",
       "    </tr>\n",
       "  </tbody>\n",
       "</table>\n",
       "</div>"
      ],
      "text/plain": [
       "                Open      High       Low     Close  Adj Close     Volume\n",
       "Date                                                                    \n",
       "2010-01-04  7.622500  7.660714  7.585000  7.643214   6.461977  493729600\n",
       "2010-01-05  7.664286  7.699643  7.616071  7.656429   6.473148  601904800\n",
       "2010-01-06  7.656429  7.686786  7.526786  7.534643   6.370184  552160000\n",
       "2010-01-07  7.562500  7.571429  7.466071  7.520714   6.358408  477131200\n",
       "2010-01-08  7.510714  7.571429  7.466429  7.570714   6.400681  447610800"
      ]
     },
     "execution_count": 3,
     "metadata": {},
     "output_type": "execute_result"
    }
   ],
   "source": [
    "start = '2010-01-01'\n",
    "end = '2019-12-31'\n",
    "\n",
    "df = yf.download('AAPL',start,end)\n",
    "df.head()"
   ]
  },
  {
   "cell_type": "code",
   "execution_count": 4,
   "id": "272792a2-a0c7-4909-bcc3-673fa2138623",
   "metadata": {},
   "outputs": [
    {
     "data": {
      "text/html": [
       "<div>\n",
       "<style scoped>\n",
       "    .dataframe tbody tr th:only-of-type {\n",
       "        vertical-align: middle;\n",
       "    }\n",
       "\n",
       "    .dataframe tbody tr th {\n",
       "        vertical-align: top;\n",
       "    }\n",
       "\n",
       "    .dataframe thead th {\n",
       "        text-align: right;\n",
       "    }\n",
       "</style>\n",
       "<table border=\"1\" class=\"dataframe\">\n",
       "  <thead>\n",
       "    <tr style=\"text-align: right;\">\n",
       "      <th></th>\n",
       "      <th>Open</th>\n",
       "      <th>High</th>\n",
       "      <th>Low</th>\n",
       "      <th>Close</th>\n",
       "      <th>Adj Close</th>\n",
       "      <th>Volume</th>\n",
       "    </tr>\n",
       "    <tr>\n",
       "      <th>Date</th>\n",
       "      <th></th>\n",
       "      <th></th>\n",
       "      <th></th>\n",
       "      <th></th>\n",
       "      <th></th>\n",
       "      <th></th>\n",
       "    </tr>\n",
       "  </thead>\n",
       "  <tbody>\n",
       "    <tr>\n",
       "      <th>2019-12-23</th>\n",
       "      <td>70.132500</td>\n",
       "      <td>71.062500</td>\n",
       "      <td>70.092499</td>\n",
       "      <td>71.000000</td>\n",
       "      <td>68.988724</td>\n",
       "      <td>98572000</td>\n",
       "    </tr>\n",
       "    <tr>\n",
       "      <th>2019-12-24</th>\n",
       "      <td>71.172501</td>\n",
       "      <td>71.222504</td>\n",
       "      <td>70.730003</td>\n",
       "      <td>71.067497</td>\n",
       "      <td>69.054344</td>\n",
       "      <td>48478800</td>\n",
       "    </tr>\n",
       "    <tr>\n",
       "      <th>2019-12-26</th>\n",
       "      <td>71.205002</td>\n",
       "      <td>72.495003</td>\n",
       "      <td>71.175003</td>\n",
       "      <td>72.477501</td>\n",
       "      <td>70.424393</td>\n",
       "      <td>93121200</td>\n",
       "    </tr>\n",
       "    <tr>\n",
       "      <th>2019-12-27</th>\n",
       "      <td>72.779999</td>\n",
       "      <td>73.492500</td>\n",
       "      <td>72.029999</td>\n",
       "      <td>72.449997</td>\n",
       "      <td>70.397675</td>\n",
       "      <td>146266000</td>\n",
       "    </tr>\n",
       "    <tr>\n",
       "      <th>2019-12-30</th>\n",
       "      <td>72.364998</td>\n",
       "      <td>73.172501</td>\n",
       "      <td>71.305000</td>\n",
       "      <td>72.879997</td>\n",
       "      <td>70.815491</td>\n",
       "      <td>144114400</td>\n",
       "    </tr>\n",
       "  </tbody>\n",
       "</table>\n",
       "</div>"
      ],
      "text/plain": [
       "                 Open       High        Low      Close  Adj Close     Volume\n",
       "Date                                                                        \n",
       "2019-12-23  70.132500  71.062500  70.092499  71.000000  68.988724   98572000\n",
       "2019-12-24  71.172501  71.222504  70.730003  71.067497  69.054344   48478800\n",
       "2019-12-26  71.205002  72.495003  71.175003  72.477501  70.424393   93121200\n",
       "2019-12-27  72.779999  73.492500  72.029999  72.449997  70.397675  146266000\n",
       "2019-12-30  72.364998  73.172501  71.305000  72.879997  70.815491  144114400"
      ]
     },
     "execution_count": 4,
     "metadata": {},
     "output_type": "execute_result"
    }
   ],
   "source": [
    "df.tail()"
   ]
  },
  {
   "cell_type": "code",
   "execution_count": 5,
   "id": "efadbc92-0c4e-4dd8-9ab3-8742c571c6af",
   "metadata": {},
   "outputs": [
    {
     "data": {
      "text/html": [
       "<div>\n",
       "<style scoped>\n",
       "    .dataframe tbody tr th:only-of-type {\n",
       "        vertical-align: middle;\n",
       "    }\n",
       "\n",
       "    .dataframe tbody tr th {\n",
       "        vertical-align: top;\n",
       "    }\n",
       "\n",
       "    .dataframe thead th {\n",
       "        text-align: right;\n",
       "    }\n",
       "</style>\n",
       "<table border=\"1\" class=\"dataframe\">\n",
       "  <thead>\n",
       "    <tr style=\"text-align: right;\">\n",
       "      <th></th>\n",
       "      <th>Date</th>\n",
       "      <th>Open</th>\n",
       "      <th>High</th>\n",
       "      <th>Low</th>\n",
       "      <th>Close</th>\n",
       "      <th>Adj Close</th>\n",
       "      <th>Volume</th>\n",
       "    </tr>\n",
       "  </thead>\n",
       "  <tbody>\n",
       "    <tr>\n",
       "      <th>0</th>\n",
       "      <td>2010-01-04</td>\n",
       "      <td>7.622500</td>\n",
       "      <td>7.660714</td>\n",
       "      <td>7.585000</td>\n",
       "      <td>7.643214</td>\n",
       "      <td>6.461977</td>\n",
       "      <td>493729600</td>\n",
       "    </tr>\n",
       "    <tr>\n",
       "      <th>1</th>\n",
       "      <td>2010-01-05</td>\n",
       "      <td>7.664286</td>\n",
       "      <td>7.699643</td>\n",
       "      <td>7.616071</td>\n",
       "      <td>7.656429</td>\n",
       "      <td>6.473148</td>\n",
       "      <td>601904800</td>\n",
       "    </tr>\n",
       "    <tr>\n",
       "      <th>2</th>\n",
       "      <td>2010-01-06</td>\n",
       "      <td>7.656429</td>\n",
       "      <td>7.686786</td>\n",
       "      <td>7.526786</td>\n",
       "      <td>7.534643</td>\n",
       "      <td>6.370184</td>\n",
       "      <td>552160000</td>\n",
       "    </tr>\n",
       "    <tr>\n",
       "      <th>3</th>\n",
       "      <td>2010-01-07</td>\n",
       "      <td>7.562500</td>\n",
       "      <td>7.571429</td>\n",
       "      <td>7.466071</td>\n",
       "      <td>7.520714</td>\n",
       "      <td>6.358408</td>\n",
       "      <td>477131200</td>\n",
       "    </tr>\n",
       "    <tr>\n",
       "      <th>4</th>\n",
       "      <td>2010-01-08</td>\n",
       "      <td>7.510714</td>\n",
       "      <td>7.571429</td>\n",
       "      <td>7.466429</td>\n",
       "      <td>7.570714</td>\n",
       "      <td>6.400681</td>\n",
       "      <td>447610800</td>\n",
       "    </tr>\n",
       "  </tbody>\n",
       "</table>\n",
       "</div>"
      ],
      "text/plain": [
       "        Date      Open      High       Low     Close  Adj Close     Volume\n",
       "0 2010-01-04  7.622500  7.660714  7.585000  7.643214   6.461977  493729600\n",
       "1 2010-01-05  7.664286  7.699643  7.616071  7.656429   6.473148  601904800\n",
       "2 2010-01-06  7.656429  7.686786  7.526786  7.534643   6.370184  552160000\n",
       "3 2010-01-07  7.562500  7.571429  7.466071  7.520714   6.358408  477131200\n",
       "4 2010-01-08  7.510714  7.571429  7.466429  7.570714   6.400681  447610800"
      ]
     },
     "execution_count": 5,
     "metadata": {},
     "output_type": "execute_result"
    }
   ],
   "source": [
    "df1 = df.reset_index()\n",
    "df1.head()"
   ]
  },
  {
   "cell_type": "code",
   "execution_count": 6,
   "id": "afabe36d-2bcb-4a83-8e71-42ddae1bc466",
   "metadata": {},
   "outputs": [
    {
     "data": {
      "text/html": [
       "<div>\n",
       "<style scoped>\n",
       "    .dataframe tbody tr th:only-of-type {\n",
       "        vertical-align: middle;\n",
       "    }\n",
       "\n",
       "    .dataframe tbody tr th {\n",
       "        vertical-align: top;\n",
       "    }\n",
       "\n",
       "    .dataframe thead th {\n",
       "        text-align: right;\n",
       "    }\n",
       "</style>\n",
       "<table border=\"1\" class=\"dataframe\">\n",
       "  <thead>\n",
       "    <tr style=\"text-align: right;\">\n",
       "      <th></th>\n",
       "      <th>Open</th>\n",
       "      <th>High</th>\n",
       "      <th>Low</th>\n",
       "      <th>Close</th>\n",
       "      <th>Volume</th>\n",
       "    </tr>\n",
       "  </thead>\n",
       "  <tbody>\n",
       "    <tr>\n",
       "      <th>0</th>\n",
       "      <td>7.622500</td>\n",
       "      <td>7.660714</td>\n",
       "      <td>7.585000</td>\n",
       "      <td>7.643214</td>\n",
       "      <td>493729600</td>\n",
       "    </tr>\n",
       "    <tr>\n",
       "      <th>1</th>\n",
       "      <td>7.664286</td>\n",
       "      <td>7.699643</td>\n",
       "      <td>7.616071</td>\n",
       "      <td>7.656429</td>\n",
       "      <td>601904800</td>\n",
       "    </tr>\n",
       "    <tr>\n",
       "      <th>2</th>\n",
       "      <td>7.656429</td>\n",
       "      <td>7.686786</td>\n",
       "      <td>7.526786</td>\n",
       "      <td>7.534643</td>\n",
       "      <td>552160000</td>\n",
       "    </tr>\n",
       "    <tr>\n",
       "      <th>3</th>\n",
       "      <td>7.562500</td>\n",
       "      <td>7.571429</td>\n",
       "      <td>7.466071</td>\n",
       "      <td>7.520714</td>\n",
       "      <td>477131200</td>\n",
       "    </tr>\n",
       "    <tr>\n",
       "      <th>4</th>\n",
       "      <td>7.510714</td>\n",
       "      <td>7.571429</td>\n",
       "      <td>7.466429</td>\n",
       "      <td>7.570714</td>\n",
       "      <td>447610800</td>\n",
       "    </tr>\n",
       "  </tbody>\n",
       "</table>\n",
       "</div>"
      ],
      "text/plain": [
       "       Open      High       Low     Close     Volume\n",
       "0  7.622500  7.660714  7.585000  7.643214  493729600\n",
       "1  7.664286  7.699643  7.616071  7.656429  601904800\n",
       "2  7.656429  7.686786  7.526786  7.534643  552160000\n",
       "3  7.562500  7.571429  7.466071  7.520714  477131200\n",
       "4  7.510714  7.571429  7.466429  7.570714  447610800"
      ]
     },
     "execution_count": 6,
     "metadata": {},
     "output_type": "execute_result"
    }
   ],
   "source": [
    "df2 = df1.drop(['Date','Adj Close'],axis=1)\n",
    "df2.head()"
   ]
  },
  {
   "cell_type": "code",
   "execution_count": 7,
   "id": "c88dd578-ff70-4e23-95ef-9c35d7d96b04",
   "metadata": {},
   "outputs": [
    {
     "data": {
      "text/plain": [
       "(2515, 5)"
      ]
     },
     "execution_count": 7,
     "metadata": {},
     "output_type": "execute_result"
    }
   ],
   "source": [
    "df2.shape"
   ]
  },
  {
   "cell_type": "code",
   "execution_count": 8,
   "id": "1fce79ec-b351-4c3f-899c-73e7b6ec824e",
   "metadata": {},
   "outputs": [
    {
     "data": {
      "text/plain": [
       "[<matplotlib.lines.Line2D at 0x173fdb25d60>]"
      ]
     },
     "execution_count": 8,
     "metadata": {},
     "output_type": "execute_result"
    },
    {
     "data": {
      "image/png": "[encoded data removed]",
      "text/plain": [
       "<Figure size 640x480 with 1 Axes>"
      ]
     },
     "metadata": {},
     "output_type": "display_data"
    }
   ],
   "source": [
    "plt.plot(df2.Close)"
   ]
  },
  {
   "cell_type": "code",
   "execution_count": 9,
   "id": "935519eb-970d-43e7-8dc4-7b278c85b1d6",
   "metadata": {},
   "outputs": [
    {
     "data": {
      "text/plain": [
       "0             NaN\n",
       "1             NaN\n",
       "2             NaN\n",
       "3             NaN\n",
       "4             NaN\n",
       "          ...    \n",
       "2510    59.201075\n",
       "2511    59.401700\n",
       "2512    59.643125\n",
       "2513    59.875125\n",
       "2514    60.106325\n",
       "Name: Close, Length: 2515, dtype: float64"
      ]
     },
     "execution_count": 9,
     "metadata": {},
     "output_type": "execute_result"
    }
   ],
   "source": [
    "ma100 = df2.Close.rolling(100).mean()\n",
    "ma100"
   ]
  },
  {
   "cell_type": "code",
   "execution_count": 10,
   "id": "7a1f25e8-2b55-414a-bd7d-51839707307f",
   "metadata": {},
   "outputs": [
    {
     "data": {
      "text/plain": [
       "[<matplotlib.lines.Line2D at 0x173fdbbb860>]"
      ]
     },
     "execution_count": 10,
     "metadata": {},
     "output_type": "execute_result"
    },
    {
     "data": {
      "image/png": "[encoded data removed]",
      "text/plain": [
       "<Figure size 2000x1000 with 1 Axes>"
      ]
     },
     "metadata": {},
     "output_type": "display_data"
    }
   ],
   "source": [
    "plt.figure(figsize=(20,10))\n",
    "plt.plot(df2.Close)\n",
    "plt.plot(ma100,'r')"
   ]
  },
  {
   "cell_type": "code",
   "execution_count": 11,
   "id": "c12067a6-6d81-4f55-aec7-ee5a00dd32dd",
   "metadata": {},
   "outputs": [
    {
     "data": {
      "text/plain": [
       "0             NaN\n",
       "1             NaN\n",
       "2             NaN\n",
       "3             NaN\n",
       "4             NaN\n",
       "          ...    \n",
       "2510    54.132313\n",
       "2511    54.261513\n",
       "2512    54.396763\n",
       "2513    54.529350\n",
       "2514    54.661100\n",
       "Name: Close, Length: 2515, dtype: float64"
      ]
     },
     "execution_count": 11,
     "metadata": {},
     "output_type": "execute_result"
    }
   ],
   "source": [
    "ma200 = df2.Close.rolling(200).mean()\n",
    "ma200"
   ]
  },
  {
   "cell_type": "code",
   "execution_count": 12,
   "id": "ac3937e6-578f-4904-8eee-9be228d55c59",
   "metadata": {},
   "outputs": [
    {
     "data": {
      "text/plain": [
       "[<matplotlib.lines.Line2D at 0x17381055f40>]"
      ]
     },
     "execution_count": 12,
     "metadata": {},
     "output_type": "execute_result"
    },
    {
     "data": {
      "image/png": "[encoded data removed]",
      "text/plain": [
       "<Figure size 1200x600 with 1 Axes>"
      ]
     },
     "metadata": {},
     "output_type": "display_data"
    }
   ],
   "source": [
    "plt.figure(figsize=(12,6))\n",
    "plt.plot(df2.Close)\n",
    "plt.plot(ma100,'r')\n",
    "plt.plot(ma200,'g')"
   ]
  },
  {
   "cell_type": "code",
   "execution_count": 13,
   "id": "8e81faa1-791f-46da-9d7c-53c6995db94a",
   "metadata": {},
   "outputs": [
    {
     "data": {
      "text/plain": [
       "(2515, 5)"
      ]
     },
     "execution_count": 13,
     "metadata": {},
     "output_type": "execute_result"
    }
   ],
   "source": [
    "df2.shape"
   ]
  },
  {
   "cell_type": "code",
   "execution_count": 14,
   "id": "9e1ce4d4-118f-463c-901c-b9d16d9200ab",
   "metadata": {},
   "outputs": [],
   "source": [
    "data_training = pd.DataFrame(df2['Close'][0:int(len(df2)*0.70)])\n",
    "data_testing = pd.DataFrame(df2['Close'][int(len(df2)*0.70):int(len(df))])"
   ]
  },
  {
   "cell_type": "code",
   "execution_count": 15,
   "id": "19c89cd0-fdf5-4bde-be13-ce78e3ae5ab3",
   "metadata": {},
   "outputs": [
    {
     "data": {
      "text/plain": [
       "(1760, 1)"
      ]
     },
     "execution_count": 15,
     "metadata": {},
     "output_type": "execute_result"
    }
   ],
   "source": [
    "data_training.shape"
   ]
  },
  {
   "cell_type": "code",
   "execution_count": 16,
   "id": "762d028e-ecbb-4a36-9dfd-e00b0d76192b",
   "metadata": {},
   "outputs": [
    {
     "data": {
      "text/plain": [
       "(755, 1)"
      ]
     },
     "execution_count": 16,
     "metadata": {},
     "output_type": "execute_result"
    }
   ],
   "source": [
    "data_testing.shape"
   ]
  },
  {
   "cell_type": "code",
   "execution_count": 17,
   "id": "a8fdab3b-fa1b-4564-965c-007df06bae77",
   "metadata": {},
   "outputs": [
    {
     "data": {
      "text/html": [
       "<div>\n",
       "<style scoped>\n",
       "    .dataframe tbody tr th:only-of-type {\n",
       "        vertical-align: middle;\n",
       "    }\n",
       "\n",
       "    .dataframe tbody tr th {\n",
       "        vertical-align: top;\n",
       "    }\n",
       "\n",
       "    .dataframe thead th {\n",
       "        text-align: right;\n",
       "    }\n",
       "</style>\n",
       "<table border=\"1\" class=\"dataframe\">\n",
       "  <thead>\n",
       "    <tr style=\"text-align: right;\">\n",
       "      <th></th>\n",
       "      <th>Close</th>\n",
       "    </tr>\n",
       "  </thead>\n",
       "  <tbody>\n",
       "    <tr>\n",
       "      <th>0</th>\n",
       "      <td>7.643214</td>\n",
       "    </tr>\n",
       "    <tr>\n",
       "      <th>1</th>\n",
       "      <td>7.656429</td>\n",
       "    </tr>\n",
       "    <tr>\n",
       "      <th>2</th>\n",
       "      <td>7.534643</td>\n",
       "    </tr>\n",
       "    <tr>\n",
       "      <th>3</th>\n",
       "      <td>7.520714</td>\n",
       "    </tr>\n",
       "    <tr>\n",
       "      <th>4</th>\n",
       "      <td>7.570714</td>\n",
       "    </tr>\n",
       "    <tr>\n",
       "      <th>...</th>\n",
       "      <td>...</td>\n",
       "    </tr>\n",
       "    <tr>\n",
       "      <th>1755</th>\n",
       "      <td>29.264999</td>\n",
       "    </tr>\n",
       "    <tr>\n",
       "      <th>1756</th>\n",
       "      <td>29.072500</td>\n",
       "    </tr>\n",
       "    <tr>\n",
       "      <th>1757</th>\n",
       "      <td>29.129999</td>\n",
       "    </tr>\n",
       "    <tr>\n",
       "      <th>1758</th>\n",
       "      <td>29.315001</td>\n",
       "    </tr>\n",
       "    <tr>\n",
       "      <th>1759</th>\n",
       "      <td>29.190001</td>\n",
       "    </tr>\n",
       "  </tbody>\n",
       "</table>\n",
       "<p>1760 rows × 1 columns</p>\n",
       "</div>"
      ],
      "text/plain": [
       "          Close\n",
       "0      7.643214\n",
       "1      7.656429\n",
       "2      7.534643\n",
       "3      7.520714\n",
       "4      7.570714\n",
       "...         ...\n",
       "1755  29.264999\n",
       "1756  29.072500\n",
       "1757  29.129999\n",
       "1758  29.315001\n",
       "1759  29.190001\n",
       "\n",
       "[1760 rows x 1 columns]"
      ]
     },
     "execution_count": 17,
     "metadata": {},
     "output_type": "execute_result"
    }
   ],
   "source": [
    "data_training"
   ]
  },
  {
   "cell_type": "code",
   "execution_count": 18,
   "id": "5e14d073-91fc-4855-82a4-91656c6098d4",
   "metadata": {},
   "outputs": [
    {
     "data": {
      "text/html": [
       "<div>\n",
       "<style scoped>\n",
       "    .dataframe tbody tr th:only-of-type {\n",
       "        vertical-align: middle;\n",
       "    }\n",
       "\n",
       "    .dataframe tbody tr th {\n",
       "        vertical-align: top;\n",
       "    }\n",
       "\n",
       "    .dataframe thead th {\n",
       "        text-align: right;\n",
       "    }\n",
       "</style>\n",
       "<table border=\"1\" class=\"dataframe\">\n",
       "  <thead>\n",
       "    <tr style=\"text-align: right;\">\n",
       "      <th></th>\n",
       "      <th>Close</th>\n",
       "    </tr>\n",
       "  </thead>\n",
       "  <tbody>\n",
       "    <tr>\n",
       "      <th>0</th>\n",
       "      <td>7.643214</td>\n",
       "    </tr>\n",
       "    <tr>\n",
       "      <th>1</th>\n",
       "      <td>7.656429</td>\n",
       "    </tr>\n",
       "    <tr>\n",
       "      <th>2</th>\n",
       "      <td>7.534643</td>\n",
       "    </tr>\n",
       "    <tr>\n",
       "      <th>3</th>\n",
       "      <td>7.520714</td>\n",
       "    </tr>\n",
       "    <tr>\n",
       "      <th>4</th>\n",
       "      <td>7.570714</td>\n",
       "    </tr>\n",
       "  </tbody>\n",
       "</table>\n",
       "</div>"
      ],
      "text/plain": [
       "      Close\n",
       "0  7.643214\n",
       "1  7.656429\n",
       "2  7.534643\n",
       "3  7.520714\n",
       "4  7.570714"
      ]
     },
     "execution_count": 18,
     "metadata": {},
     "output_type": "execute_result"
    }
   ],
   "source": [
    "data_training.head()"
   ]
  },
  {
   "cell_type": "code",
   "execution_count": 19,
   "id": "18060678-300b-4ba2-8633-0fb162b0e56b",
   "metadata": {},
   "outputs": [
    {
     "data": {
      "text/html": [
       "<div>\n",
       "<style scoped>\n",
       "    .dataframe tbody tr th:only-of-type {\n",
       "        vertical-align: middle;\n",
       "    }\n",
       "\n",
       "    .dataframe tbody tr th {\n",
       "        vertical-align: top;\n",
       "    }\n",
       "\n",
       "    .dataframe thead th {\n",
       "        text-align: right;\n",
       "    }\n",
       "</style>\n",
       "<table border=\"1\" class=\"dataframe\">\n",
       "  <thead>\n",
       "    <tr style=\"text-align: right;\">\n",
       "      <th></th>\n",
       "      <th>Close</th>\n",
       "    </tr>\n",
       "  </thead>\n",
       "  <tbody>\n",
       "    <tr>\n",
       "      <th>1760</th>\n",
       "      <td>29.182501</td>\n",
       "    </tr>\n",
       "    <tr>\n",
       "      <th>1761</th>\n",
       "      <td>28.955000</td>\n",
       "    </tr>\n",
       "    <tr>\n",
       "      <th>1762</th>\n",
       "      <td>29.037500</td>\n",
       "    </tr>\n",
       "    <tr>\n",
       "      <th>1763</th>\n",
       "      <td>29.004999</td>\n",
       "    </tr>\n",
       "    <tr>\n",
       "      <th>1764</th>\n",
       "      <td>29.152500</td>\n",
       "    </tr>\n",
       "    <tr>\n",
       "      <th>...</th>\n",
       "      <td>...</td>\n",
       "    </tr>\n",
       "    <tr>\n",
       "      <th>2510</th>\n",
       "      <td>71.000000</td>\n",
       "    </tr>\n",
       "    <tr>\n",
       "      <th>2511</th>\n",
       "      <td>71.067497</td>\n",
       "    </tr>\n",
       "    <tr>\n",
       "      <th>2512</th>\n",
       "      <td>72.477501</td>\n",
       "    </tr>\n",
       "    <tr>\n",
       "      <th>2513</th>\n",
       "      <td>72.449997</td>\n",
       "    </tr>\n",
       "    <tr>\n",
       "      <th>2514</th>\n",
       "      <td>72.879997</td>\n",
       "    </tr>\n",
       "  </tbody>\n",
       "</table>\n",
       "<p>755 rows × 1 columns</p>\n",
       "</div>"
      ],
      "text/plain": [
       "          Close\n",
       "1760  29.182501\n",
       "1761  28.955000\n",
       "1762  29.037500\n",
       "1763  29.004999\n",
       "1764  29.152500\n",
       "...         ...\n",
       "2510  71.000000\n",
       "2511  71.067497\n",
       "2512  72.477501\n",
       "2513  72.449997\n",
       "2514  72.879997\n",
       "\n",
       "[755 rows x 1 columns]"
      ]
     },
     "execution_count": 19,
     "metadata": {},
     "output_type": "execute_result"
    }
   ],
   "source": [
    "data_testing"
   ]
  },
  {
   "cell_type": "markdown",
   "id": "55648fb0-8e18-43f7-8268-45c19a6aba55",
   "metadata": {},
   "source": [
    "scaling data between 0 and 1"
   ]
  },
  {
   "cell_type": "code",
   "execution_count": 20,
   "id": "241039e8-5dcf-4258-a97e-d2ba75371b90",
   "metadata": {},
   "outputs": [],
   "source": [
    "from sklearn.preprocessing import MinMaxScaler\n",
    "scaler = MinMaxScaler(feature_range=(0,1))"
   ]
  },
  {
   "cell_type": "code",
   "execution_count": 21,
   "id": "fdc8f405-2dc2-4271-a6c5-7816b9251f1b",
   "metadata": {},
   "outputs": [
    {
     "data": {
      "text/plain": [
       "array([[0.02971782],\n",
       "       [0.03021854],\n",
       "       [0.02560389],\n",
       "       ...,\n",
       "       [0.84388656],\n",
       "       [0.85089656],\n",
       "       [0.84616011]])"
      ]
     },
     "execution_count": 21,
     "metadata": {},
     "output_type": "execute_result"
    }
   ],
   "source": [
    "data_training_array = scaler.fit_transform(data_training)\n",
    "data_training_array"
   ]
  },
  {
   "cell_type": "code",
   "execution_count": 22,
   "id": "59a597dd-19da-4e23-a476-0085b544790f",
   "metadata": {},
   "outputs": [
    {
     "data": {
      "text/plain": [
       "(1760, 1)"
      ]
     },
     "execution_count": 22,
     "metadata": {},
     "output_type": "execute_result"
    }
   ],
   "source": [
    "data_training_array.shape"
   ]
  },
  {
   "cell_type": "code",
   "execution_count": 48,
   "id": "e90fe4d4-e1fd-4781-9342-7af6ac149344",
   "metadata": {},
   "outputs": [
    {
     "data": {
      "text/plain": [
       "array([[0.0051793 ],\n",
       "       [0.        ],\n",
       "       [0.00187821],\n",
       "       [0.00113829],\n",
       "       [0.00449631],\n",
       "       [0.0118953 ],\n",
       "       [0.01804211],\n",
       "       [0.01872511],\n",
       "       [0.02236768],\n",
       "       [0.01952192],\n",
       "       [0.0183267 ],\n",
       "       [0.02379056],\n",
       "       [0.02373363],\n",
       "       [0.02253841],\n",
       "       [0.02379056],\n",
       "       [0.02424589],\n",
       "       [0.02361982],\n",
       "       [0.0344906 ],\n",
       "       [0.03483212],\n",
       "       [0.034889  ],\n",
       "       [0.03306772],\n",
       "       [0.0314741 ],\n",
       "       [0.07359136],\n",
       "       [0.07233921],\n",
       "       [0.07546957],\n",
       "       [0.08235626],\n",
       "       [0.08941377],\n",
       "       [0.09231642],\n",
       "       [0.09447922],\n",
       "       [0.09277175],\n",
       "       [0.09943082],\n",
       "       [0.10927721],\n",
       "       [0.112066  ],\n",
       "       [0.11115542],\n",
       "       [0.11326126],\n",
       "       [0.11883892],\n",
       "       [0.12117247],\n",
       "       [0.11787137],\n",
       "       [0.1186113 ],\n",
       "       [0.12014795],\n",
       "       [0.12048951],\n",
       "       [0.1364257 ],\n",
       "       [0.13170181],\n",
       "       [0.13636881],\n",
       "       [0.13386453],\n",
       "       [0.13488905],\n",
       "       [0.13192943],\n",
       "       [0.13010811],\n",
       "       [0.13272624],\n",
       "       [0.13306772],\n",
       "       [0.13187255],\n",
       "       [0.14023909],\n",
       "       [0.14154812],\n",
       "       [0.13756407],\n",
       "       [0.14593061],\n",
       "       [0.13671029],\n",
       "       [0.1457029 ],\n",
       "       [0.14285714],\n",
       "       [0.14126352],\n",
       "       [0.14262952],\n",
       "       [0.15924875],\n",
       "       [0.16106999],\n",
       "       [0.15998859],\n",
       "       [0.15845194],\n",
       "       [0.15867956],\n",
       "       [0.16476953],\n",
       "       [0.16050089],\n",
       "       [0.15845194],\n",
       "       [0.15663061],\n",
       "       [0.15566306],\n",
       "       [0.14689816],\n",
       "       [0.14786571],\n",
       "       [0.14359707],\n",
       "       [0.14803645],\n",
       "       [0.14445076],\n",
       "       [0.14149115],\n",
       "       [0.15150828],\n",
       "       [0.15054073],\n",
       "       [0.15833808],\n",
       "       [0.16340353],\n",
       "       [0.15856571],\n",
       "       [0.15919178],\n",
       "       [0.15839497],\n",
       "       [0.17507117],\n",
       "       [0.18036424],\n",
       "       [0.17780307],\n",
       "       [0.17478657],\n",
       "       [0.18861701],\n",
       "       [0.2116676 ],\n",
       "       [0.21724535],\n",
       "       [0.21309048],\n",
       "       [0.21701764],\n",
       "       [0.22925446],\n",
       "       [0.2269778 ],\n",
       "       [0.22566878],\n",
       "       [0.19595903],\n",
       "       [0.20899258],\n",
       "       [0.21195219],\n",
       "       [0.21724535],\n",
       "       [0.21616395],\n",
       "       [0.21354581],\n",
       "       [0.21656231],\n",
       "       [0.21508255],\n",
       "       [0.21542402],\n",
       "       [0.21024472],\n",
       "       [0.21263515],\n",
       "       [0.22555492],\n",
       "       [0.21690379],\n",
       "       [0.2198634 ],\n",
       "       [0.22509959],\n",
       "       [0.22293687],\n",
       "       [0.18873078],\n",
       "       [0.16846898],\n",
       "       [0.17512805],\n",
       "       [0.16698922],\n",
       "       [0.16203754],\n",
       "       [0.15054073],\n",
       "       [0.17370517],\n",
       "       [0.16613544],\n",
       "       [0.17103015],\n",
       "       [0.16966424],\n",
       "       [0.17336369],\n",
       "       [0.17074564],\n",
       "       [0.1588503 ],\n",
       "       [0.17080253],\n",
       "       [0.15856571],\n",
       "       [0.16050089],\n",
       "       [0.15754127],\n",
       "       [0.16089925],\n",
       "       [0.15315878],\n",
       "       [0.16141147],\n",
       "       [0.16642003],\n",
       "       [0.16909505],\n",
       "       [0.17029031],\n",
       "       [0.18184409],\n",
       "       [0.18907226],\n",
       "       [0.19203187],\n",
       "       [0.19499149],\n",
       "       [0.20034153],\n",
       "       [0.19647125],\n",
       "       [0.19607289],\n",
       "       [0.20643141],\n",
       "       [0.21013095],\n",
       "       [0.21422885],\n",
       "       [0.19772339],\n",
       "       [0.19169039],\n",
       "       [0.1873079 ],\n",
       "       [0.19482075],\n",
       "       [0.2351736 ],\n",
       "       [0.22623796],\n",
       "       [0.23090496],\n",
       "       [0.24467843],\n",
       "       [0.25190669],\n",
       "       [0.25748435],\n",
       "       [0.22481508],\n",
       "       [0.2371087 ],\n",
       "       [0.25059766],\n",
       "       [0.26055782],\n",
       "       [0.25685828],\n",
       "       [0.23927151],\n",
       "       [0.23722255],\n",
       "       [0.23557205],\n",
       "       [0.25019921],\n",
       "       [0.2513375 ],\n",
       "       [0.24729657],\n",
       "       [0.25065455],\n",
       "       [0.2598179 ],\n",
       "       [0.2680137 ],\n",
       "       [0.27051798],\n",
       "       [0.27421743],\n",
       "       [0.27450203],\n",
       "       [0.26328973],\n",
       "       [0.26232218],\n",
       "       [0.25862264],\n",
       "       [0.243654  ],\n",
       "       [0.25998863],\n",
       "       [0.25634607],\n",
       "       [0.24945929],\n",
       "       [0.24166193],\n",
       "       [0.2507684 ],\n",
       "       [0.24388162],\n",
       "       [0.2442231 ],\n",
       "       [0.22908372],\n",
       "       [0.2138304 ],\n",
       "       [0.20529312],\n",
       "       [0.19766651],\n",
       "       [0.21240752],\n",
       "       [0.21861126],\n",
       "       [0.21320433],\n",
       "       [0.21798519],\n",
       "       [0.21622083],\n",
       "       [0.22003414],\n",
       "       [0.21434262],\n",
       "       [0.22521344],\n",
       "       [0.22470123],\n",
       "       [0.22777461],\n",
       "       [0.22811609],\n",
       "       [0.23181563],\n",
       "       [0.22868527],\n",
       "       [0.23431991],\n",
       "       [0.2507684 ],\n",
       "       [0.25412638],\n",
       "       [0.25008536],\n",
       "       [0.22857142],\n",
       "       [0.23010815],\n",
       "       [0.22965282],\n",
       "       [0.23494598],\n",
       "       [0.23101882],\n",
       "       [0.23671034],\n",
       "       [0.26881051],\n",
       "       [0.28969838],\n",
       "       [0.30290266],\n",
       "       [0.29066592],\n",
       "       [0.29760959],\n",
       "       [0.32259535],\n",
       "       [0.33255551],\n",
       "       [0.33574275],\n",
       "       [0.34388167],\n",
       "       [0.34183272],\n",
       "       [0.33494594],\n",
       "       [0.3309619 ],\n",
       "       [0.31599317],\n",
       "       [0.30313037],\n",
       "       [0.31462726],\n",
       "       [0.30922025],\n",
       "       [0.3082527 ],\n",
       "       [0.32623792],\n",
       "       [0.33659653],\n",
       "       [0.33665342],\n",
       "       [0.33164485],\n",
       "       [0.32583956],\n",
       "       [0.30540694],\n",
       "       [0.3188959 ],\n",
       "       [0.31434267],\n",
       "       [0.30722827],\n",
       "       [0.3063176 ],\n",
       "       [0.30273192],\n",
       "       [0.30449636],\n",
       "       [0.30478087],\n",
       "       [0.3235629 ],\n",
       "       [0.31804212],\n",
       "       [0.32128633],\n",
       "       [0.32100174],\n",
       "       [0.3309619 ],\n",
       "       [0.3449061 ],\n",
       "       [0.33420602],\n",
       "       [0.3331247 ],\n",
       "       [0.33688104],\n",
       "       [0.33688104],\n",
       "       [0.31161076],\n",
       "       [0.3117815 ],\n",
       "       [0.31451341],\n",
       "       [0.30398406],\n",
       "       [0.32122936],\n",
       "       [0.32105862],\n",
       "       [0.32561185],\n",
       "       [0.33682415],\n",
       "       [0.3331247 ],\n",
       "       [0.33301085],\n",
       "       [0.33278314],\n",
       "       [0.33841777],\n",
       "       [0.34871941],\n",
       "       [0.34359708],\n",
       "       [0.36015942],\n",
       "       [0.36107   ],\n",
       "       [0.35651685],\n",
       "       [0.34820719],\n",
       "       [0.34843482],\n",
       "       [0.33238478],\n",
       "       [0.31468415],\n",
       "       [0.31696072],\n",
       "       [0.29675589],\n",
       "       [0.29112126],\n",
       "       [0.29373931],\n",
       "       [0.29573137],\n",
       "       [0.25429711],\n",
       "       [0.23147415],\n",
       "       [0.26869665],\n",
       "       [0.24883322],\n",
       "       [0.22384745],\n",
       "       [0.23101882],\n",
       "       [0.26687541],\n",
       "       [0.27615253],\n",
       "       [0.29339783],\n",
       "       [0.32538423],\n",
       "       [0.32219691],\n",
       "       [0.3188959 ],\n",
       "       [0.31445652],\n",
       "       [0.32259535],\n",
       "       [0.33966991],\n",
       "       [0.3594195 ],\n",
       "       [0.3561184 ],\n",
       "       [0.35458167],\n",
       "       [0.33682415],\n",
       "       [0.34371093],\n",
       "       [0.34718276],\n",
       "       [0.34632898],\n",
       "       [0.33699489],\n",
       "       [0.34786572],\n",
       "       [0.3651679 ],\n",
       "       [0.37507118],\n",
       "       [0.36511102],\n",
       "       [0.356403  ],\n",
       "       [0.35759817],\n",
       "       [0.35401257],\n",
       "       [0.33853163],\n",
       "       [0.33819015],\n",
       "       [0.31559481],\n",
       "       [0.30182134],\n",
       "       [0.27956748],\n",
       "       [0.32413209],\n",
       "       [0.29891861],\n",
       "       [0.28833238],\n",
       "       [0.29573137],\n",
       "       [0.28947067],\n",
       "       [0.2992032 ],\n",
       "       [0.3175299 ],\n",
       "       [0.32430283],\n",
       "       [0.29914632],\n",
       "       [0.30865115],\n",
       "       [0.32686399],\n",
       "       [0.32225388],\n",
       "       [0.33192944],\n",
       "       [0.33528742],\n",
       "       [0.34149124],\n",
       "       [0.35526471],\n",
       "       [0.35298805],\n",
       "       [0.32430283],\n",
       "       [0.28400686],\n",
       "       [0.28127495],\n",
       "       [0.26818444],\n",
       "       [0.27222537],\n",
       "       [0.27546958],\n",
       "       [0.26465572],\n",
       "       [0.28138872],\n",
       "       [0.30324422],\n",
       "       [0.34575988],\n",
       "       [0.34758112],\n",
       "       [0.38708029],\n",
       "       [0.39465002],\n",
       "       [0.39971547],\n",
       "       [0.40717134],\n",
       "       [0.42242458],\n",
       "       [0.41417189],\n",
       "       [0.41166761],\n",
       "       [0.40193516],\n",
       "       [0.41183835],\n",
       "       [0.40506551],\n",
       "       [0.40119523],\n",
       "       [0.40870808],\n",
       "       [0.40603306],\n",
       "       [0.41286286],\n",
       "       [0.41166761],\n",
       "       [0.41411501],\n",
       "       [0.41024473],\n",
       "       [0.40796815],\n",
       "       [0.40438247],\n",
       "       [0.42356295],\n",
       "       [0.43261245],\n",
       "       [0.44103587],\n",
       "       [0.44484918],\n",
       "       [0.44188965],\n",
       "       [0.43187252],\n",
       "       [0.4291975 ],\n",
       "       [0.43517361],\n",
       "       [0.426181  ],\n",
       "       [0.42675019],\n",
       "       [0.41559477],\n",
       "       [0.41502567],\n",
       "       [0.39766652],\n",
       "       [0.40227663],\n",
       "       [0.39635749],\n",
       "       [0.39328402],\n",
       "       [0.37763234],\n",
       "       [0.39049515],\n",
       "       [0.3889585 ],\n",
       "       [0.39658511],\n",
       "       [0.39436542],\n",
       "       [0.40614683],\n",
       "       [0.3875925 ],\n",
       "       [0.39601593],\n",
       "       [0.41064318],\n",
       "       [0.42549805],\n",
       "       [0.42418902],\n",
       "       [0.41013096],\n",
       "       [0.42805921],\n",
       "       [0.42976669],\n",
       "       [0.42737626],\n",
       "       [0.43044964],\n",
       "       [0.42447353],\n",
       "       [0.43289704],\n",
       "       [0.43039276],\n",
       "       [0.4313603 ],\n",
       "       [0.43927151],\n",
       "       [0.44963012],\n",
       "       [0.44615829],\n",
       "       [0.42777462],\n",
       "       [0.42168474],\n",
       "       [0.42384746],\n",
       "       [0.48764943],\n",
       "       [0.52117248],\n",
       "       [0.52458743],\n",
       "       [0.53073428],\n",
       "       [0.51957886],\n",
       "       [0.52037567],\n",
       "       [0.52965288],\n",
       "       [0.52196929],\n",
       "       [0.52959591],\n",
       "       [0.53460447],\n",
       "       [0.53739335],\n",
       "       [0.55492324],\n",
       "       [0.57916909],\n",
       "       [0.56710309],\n",
       "       [0.56471258],\n",
       "       [0.56476955],\n",
       "       [0.56727383],\n",
       "       [0.57108714],\n",
       "       [0.58121804],\n",
       "       [0.59123508],\n",
       "       [0.60990326],\n",
       "       [0.62157089],\n",
       "       [0.63636888],\n",
       "       [0.64052366],\n",
       "       [0.63204327],\n",
       "       [0.6105863 ],\n",
       "       [0.60034155],\n",
       "       [0.58343773],\n",
       "       [0.61485494],\n",
       "       [0.59903252],\n",
       "       [0.62942522],\n",
       "       [0.61479797],\n",
       "       [0.58087656],\n",
       "       [0.58292551],\n",
       "       [0.58366535],\n",
       "       [0.59311329],\n",
       "       [0.57962442],\n",
       "       [0.59743882],\n",
       "       [0.605407  ],\n",
       "       [0.59533298],\n",
       "       [0.62111556],\n",
       "       [0.62561191],\n",
       "       [0.63426296],\n",
       "       [0.64575985],\n",
       "       [0.66163924],\n",
       "       [0.63841783],\n",
       "       [0.61735914],\n",
       "       [0.61439961],\n",
       "       [0.63204327],\n",
       "       [0.57222542],\n",
       "       [0.5613546 ],\n",
       "       [0.60495166],\n",
       "       [0.57791694],\n",
       "       [0.60517929],\n",
       "       [0.59971548],\n",
       "       [0.57029033],\n",
       "       [0.58901539],\n",
       "       [0.59664201],\n",
       "       [0.60848038],\n",
       "       [0.56499717],\n",
       "       [0.59180427],\n",
       "       [0.57188395],\n",
       "       [0.54877639],\n",
       "       [0.55480939],\n",
       "       [0.58645422],\n",
       "       [0.60557773],\n",
       "       [0.5216847 ],\n",
       "       [0.48816165],\n",
       "       [0.50056921],\n",
       "       [0.53574276],\n",
       "       [0.52743319],\n",
       "       [0.50455326],\n",
       "       [0.44593058],\n",
       "       [0.43488902],\n",
       "       [0.40398411],\n",
       "       [0.43022202],\n",
       "       [0.44228801],\n",
       "       [0.39863406],\n",
       "       [0.34809334],\n",
       "       [0.34695505],\n",
       "       [0.3214001 ],\n",
       "       [0.33466135],\n",
       "       [0.33249863],\n",
       "       [0.3706318 ],\n",
       "       [0.36272059],\n",
       "       [0.35719981],\n",
       "       [0.39271492],\n",
       "       [0.34644284],\n",
       "       [0.33523054],\n",
       "       [0.29977239],\n",
       "       [0.30608998],\n",
       "       [0.3005692 ],\n",
       "       [0.30324422],\n",
       "       [0.31377348],\n",
       "       [0.28264086],\n",
       "       [0.27387596],\n",
       "       [0.28599892],\n",
       "       [0.2565168 ],\n",
       "       [0.23340925],\n",
       "       [0.19869094],\n",
       "       [0.17649405],\n",
       "       [0.23534434],\n",
       "       [0.22953897],\n",
       "       [0.2299943 ],\n",
       "       [0.23858855],\n",
       "       [0.23961298],\n",
       "       [0.1500854 ],\n",
       "       [0.18463288],\n",
       "       [0.18275467],\n",
       "       [0.19880479],\n",
       "       [0.21337507],\n",
       "       [0.21616395],\n",
       "       [0.2075697 ],\n",
       "       [0.19453615],\n",
       "       [0.21200916],\n",
       "       [0.22265228],\n",
       "       [0.22788847],\n",
       "       [0.23335236],\n",
       "       [0.21331819],\n",
       "       [0.2168469 ],\n",
       "       [0.20990324],\n",
       "       [0.23870232],\n",
       "       [0.23039275],\n",
       "       [0.22117243],\n",
       "       [0.28133183],\n",
       "       [0.28810476],\n",
       "       [0.28856009],\n",
       "       [0.31548095],\n",
       "       [0.33215707],\n",
       "       [0.33249863],\n",
       "       [0.3137166 ],\n",
       "       [0.3107001 ],\n",
       "       [0.30512235],\n",
       "       [0.313432  ],\n",
       "       [0.30939099],\n",
       "       [0.31291979],\n",
       "       [0.31075698],\n",
       "       [0.31365963],\n",
       "       [0.31992033],\n",
       "       [0.31439955],\n",
       "       [0.32527038],\n",
       "       [0.33244166],\n",
       "       [0.33301085],\n",
       "       [0.33608423],\n",
       "       [0.32629481],\n",
       "       [0.33665342],\n",
       "       [0.34166198],\n",
       "       [0.33984065],\n",
       "       [0.33409225],\n",
       "       [0.32259535],\n",
       "       [0.3249289 ],\n",
       "       [0.35902105],\n",
       "       [0.37046106],\n",
       "       [0.37501429],\n",
       "       [0.3865111 ],\n",
       "       [0.40011383],\n",
       "       [0.41092777],\n",
       "       [0.40244737],\n",
       "       [0.41172458],\n",
       "       [0.45116677],\n",
       "       [0.42817307],\n",
       "       [0.41502567],\n",
       "       [0.40392714],\n",
       "       [0.41348894],\n",
       "       [0.41491182],\n",
       "       [0.42191236],\n",
       "       [0.42925447],\n",
       "       [0.44507689],\n",
       "       [0.45264662],\n",
       "       [0.45458172],\n",
       "       [0.46203759],\n",
       "       [0.47968134],\n",
       "       [0.47626639],\n",
       "       [0.48264087],\n",
       "       [0.47313604],\n",
       "       [0.47268071],\n",
       "       [0.47472966],\n",
       "       [0.47484351],\n",
       "       [0.49692664],\n",
       "       [0.50108142],\n",
       "       [0.50489473],\n",
       "       [0.5216847 ],\n",
       "       [0.51986346],\n",
       "       [0.50916337],\n",
       "       [0.50358571],\n",
       "       [0.50535006],\n",
       "       [0.48292546],\n",
       "       [0.53898697],\n",
       "       [0.53118953],\n",
       "       [0.54598751],\n",
       "       [0.52737622],\n",
       "       [0.4953899 ],\n",
       "       [0.49561753],\n",
       "       [0.48321006],\n",
       "       [0.46306203],\n",
       "       [0.39783726],\n",
       "       [0.41457034],\n",
       "       [0.42743314],\n",
       "       [0.42265229],\n",
       "       [0.41650543],\n",
       "       [0.38286853],\n",
       "       [0.40284582],\n",
       "       [0.38110417],\n",
       "       [0.36334666],\n",
       "       [0.3594195 ],\n",
       "       [0.35520774],\n",
       "       [0.35037   ],\n",
       "       [0.35560619],\n",
       "       [0.3372226 ],\n",
       "       [0.32714859],\n",
       "       [0.3632328 ],\n",
       "       [0.37973818],\n",
       "       [0.3949915 ],\n",
       "       [0.42305065],\n",
       "       [0.43688109],\n",
       "       [0.44957315],\n",
       "       [0.44604444],\n",
       "       [0.44581673],\n",
       "       [0.43779175],\n",
       "       [0.44433696],\n",
       "       [0.47029028],\n",
       "       [0.46698919],\n",
       "       [0.47603877],\n",
       "       [0.47216849],\n",
       "       [0.47103021],\n",
       "       [0.45389876],\n",
       "       [0.47797387],\n",
       "       [0.47763239],\n",
       "       [0.46727378],\n",
       "       [0.48793403],\n",
       "       [0.49464998],\n",
       "       [0.50421178],\n",
       "       [0.50318726],\n",
       "       [0.47922601],\n",
       "       [0.48616967],\n",
       "       [0.49749574],\n",
       "       [0.48907231],\n",
       "       [0.49789419],\n",
       "       [0.50876501],\n",
       "       [0.50472399],\n",
       "       [0.49817878],\n",
       "       [0.51132618],\n",
       "       [0.49385317],\n",
       "       [0.52020494],\n",
       "       [0.52942517],\n",
       "       [0.52845762],\n",
       "       [0.51906665],\n",
       "       [0.52316455],\n",
       "       [0.53420603],\n",
       "       [0.52908369],\n",
       "       [0.55332954],\n",
       "       [0.52709163],\n",
       "       [0.50199209],\n",
       "       [0.44120661],\n",
       "       [0.46203759],\n",
       "       [0.47364826],\n",
       "       [0.49863403],\n",
       "       [0.48474679],\n",
       "       [0.48184406],\n",
       "       [0.53016509],\n",
       "       [0.49476383],\n",
       "       [0.48901543],\n",
       "       [0.51610703],\n",
       "       [0.53801942],\n",
       "       [0.5380763 ],\n",
       "       [0.55105296],\n",
       "       [0.55002853],\n",
       "       [0.49413776],\n",
       "       [0.51605015],\n",
       "       [0.5027889 ],\n",
       "       [0.51058625],\n",
       "       [0.53039272],\n",
       "       [0.52885607],\n",
       "       [0.5115538 ],\n",
       "       [0.53141724],\n",
       "       [0.55469553],\n",
       "       [0.55458168],\n",
       "       [0.55976098],\n",
       "       [0.57416052],\n",
       "       [0.61337509],\n",
       "       [0.61052933],\n",
       "       [0.58582815],\n",
       "       [0.59237337],\n",
       "       [0.5969266 ],\n",
       "       [0.60870809],\n",
       "       [0.59840645],\n",
       "       [0.58002278],\n",
       "       [0.58565741],\n",
       "       [0.57973819],\n",
       "       [0.59880481],\n",
       "       [0.59231648],\n",
       "       [0.5862266 ],\n",
       "       [0.61553789],\n",
       "       [0.61906661],\n",
       "       [0.58702341],\n",
       "       [0.59760964],\n",
       "       [0.63284008],\n",
       "       [0.63312467],\n",
       "       [0.61798521],\n",
       "       [0.63295393],\n",
       "       [0.65036997],\n",
       "       [0.68520213],\n",
       "       [0.68326695],\n",
       "       [0.68013668],\n",
       "       [0.67472967],\n",
       "       [0.67990897],\n",
       "       [0.68634042],\n",
       "       [0.7096756 ],\n",
       "       [0.70654533],\n",
       "       [0.72487194],\n",
       "       [0.72714861],\n",
       "       [0.74422316],\n",
       "       [0.75828123],\n",
       "       [0.72549802],\n",
       "       [0.72532728],\n",
       "       [0.75663064],\n",
       "       [0.79681284],\n",
       "       [0.80637455],\n",
       "       [0.80426872],\n",
       "       [0.8048947 ],\n",
       "       [0.81735914],\n",
       "       [0.82140025],\n",
       "       [0.83312477],\n",
       "       [0.83175868],\n",
       "       [0.84604445],\n",
       "       [0.83562905],\n",
       "       [0.85338656],\n",
       "       [0.86101318],\n",
       "       [0.85640306],\n",
       "       [0.83875932],\n",
       "       [0.83204336],\n",
       "       [0.83073425],\n",
       "       [0.85685831],\n",
       "       [0.84502002],\n",
       "       [0.86522485],\n",
       "       [0.86186687],\n",
       "       [0.8442801 ],\n",
       "       [0.81747309],\n",
       "       [0.83050654],\n",
       "       [0.85236196],\n",
       "       [0.88155948],\n",
       "       [0.85998875],\n",
       "       [0.8688675 ],\n",
       "       [0.88190096],\n",
       "       [0.88582812],\n",
       "       [0.90682985],\n",
       "       [0.93363686],\n",
       "       [0.9367673 ],\n",
       "       [0.9329539 ],\n",
       "       [0.93454752],\n",
       "       [0.93124652],\n",
       "       [0.95719983],\n",
       "       [0.95873648],\n",
       "       [0.99083674],\n",
       "       [0.99021058],\n",
       "       [1.        ]])"
      ]
     },
     "execution_count": 48,
     "metadata": {},
     "output_type": "execute_result"
    }
   ],
   "source": [
    "data_testing_array = scaler.fit_transform(data_testing)\n",
    "data_testing_array"
   ]
  },
  {
   "cell_type": "code",
   "execution_count": 49,
   "id": "54078d8d-cb27-4968-b861-5fa4bff180e8",
   "metadata": {},
   "outputs": [],
   "source": [
    "def create_data_array(data_array,time_step=1):\n",
    "    dataX = []\n",
    "    datay = []\n",
    "    for i in range(time_step,data_array.shape[0]):\n",
    "        a = data_array[i-time_step:i,0]\n",
    "        dataX.append(a)\n",
    "        datay.append(data_array[i,0])\n",
    "    return np.array(dataX),np.array(datay)"
   ]
  },
  {
   "cell_type": "code",
   "execution_count": 50,
   "id": "03be2fb2-49a7-4b60-a5fc-c8f9a24395e7",
   "metadata": {},
   "outputs": [],
   "source": [
    "time_step = 100\n",
    "X_train,y_train = create_data_array(data_training_array,time_step)\n",
    "X_test,y_test = create_data_array(data_testing_array,time_step)"
   ]
  },
  {
   "cell_type": "code",
   "execution_count": 51,
   "id": "a04e75ac-e41e-46c5-9cf6-6c6db41d81c9",
   "metadata": {},
   "outputs": [
    {
     "data": {
      "text/plain": [
       "((1660, 100), (1660,))"
      ]
     },
     "execution_count": 51,
     "metadata": {},
     "output_type": "execute_result"
    }
   ],
   "source": [
    "X_train.shape,y_train.shape"
   ]
  },
  {
   "cell_type": "code",
   "execution_count": 52,
   "id": "d3d117b7-1e4f-4385-b323-ed7bc5694e32",
   "metadata": {},
   "outputs": [
    {
     "data": {
      "text/plain": [
       "((655, 100), (655,))"
      ]
     },
     "execution_count": 52,
     "metadata": {},
     "output_type": "execute_result"
    }
   ],
   "source": [
    "X_test.shape,y_test.shape"
   ]
  },
  {
   "cell_type": "markdown",
   "id": "3b9c6123-790d-4031-8e75-c7436ce4d595",
   "metadata": {},
   "source": [
    "ML Model"
   ]
  },
  {
   "cell_type": "code",
   "execution_count": 53,
   "id": "560d57d7-3ce3-45d6-a0ff-00155f141ea6",
   "metadata": {},
   "outputs": [
    {
     "data": {
      "text/plain": [
       "array([[2.97178191e-02, 3.02185410e-02, 2.56038878e-02, 2.50760817e-02,\n",
       "        2.69706691e-02, 2.44400837e-02, 2.12057268e-02, 2.51708129e-02,\n",
       "        2.35198380e-02, 1.87833875e-02, 3.11116846e-02, 2.66323796e-02,\n",
       "        2.16793646e-02, 7.71362572e-03, 1.49130326e-02, 1.87969205e-02,\n",
       "        2.14222733e-02, 9.79765742e-03, 1.35149573e-05, 3.62674239e-03,\n",
       "        5.15593812e-03, 9.71645927e-03, 0.00000000e+00, 4.61461711e-03,\n",
       "        2.80124591e-03, 5.60252796e-03, 4.15451231e-03, 8.95862792e-03,\n",
       "        1.12727391e-02, 1.53596224e-02, 1.42093514e-02, 1.47235702e-02,\n",
       "        1.30184452e-02, 1.13268532e-02, 6.77986503e-03, 1.16516638e-02,\n",
       "        1.34650350e-02, 1.70105973e-02, 2.29244210e-02, 2.27349587e-02,\n",
       "        2.33844897e-02, 2.52520110e-02, 3.64029891e-02, 3.65789184e-02,\n",
       "        4.19108039e-02, 4.43737423e-02, 4.52668858e-02, 4.67555186e-02,\n",
       "        4.30204939e-02, 4.38459723e-02, 4.33994006e-02, 4.41166329e-02,\n",
       "        4.08687790e-02, 4.42519631e-02, 4.91372588e-02, 5.05040763e-02,\n",
       "        4.68231657e-02, 5.25746111e-02, 5.45909415e-02, 5.92732599e-02,\n",
       "        5.81229708e-02, 5.94356562e-02, 6.28459063e-02, 6.42668559e-02,\n",
       "        6.57013205e-02, 6.48216919e-02, 6.73116963e-02, 6.79883476e-02,\n",
       "        6.81777738e-02, 7.25894678e-02, 7.69605447e-02, 7.49035609e-02,\n",
       "        7.44569892e-02, 7.11008711e-02, 9.08992356e-02, 1.00710444e-01,\n",
       "        1.06610699e-01, 1.04810860e-01, 9.47154403e-02, 9.41200233e-02,\n",
       "        1.03647056e-01, 9.34298571e-02, 1.00548048e-01, 9.01684522e-02,\n",
       "        8.65281587e-02, 7.33473172e-02, 5.92867749e-02, 8.38215898e-02,\n",
       "        8.72454271e-02, 9.47831235e-02, 8.97354315e-02, 8.35915464e-02,\n",
       "        8.41328674e-02, 8.16157970e-02, 7.61756292e-02, 6.18580497e-02,\n",
       "        6.80289647e-02, 7.40374473e-02, 7.19534337e-02, 7.04512859e-02],\n",
       "       [3.02185410e-02, 2.56038878e-02, 2.50760817e-02, 2.69706691e-02,\n",
       "        2.44400837e-02, 2.12057268e-02, 2.51708129e-02, 2.35198380e-02,\n",
       "        1.87833875e-02, 3.11116846e-02, 2.66323796e-02, 2.16793646e-02,\n",
       "        7.71362572e-03, 1.49130326e-02, 1.87969205e-02, 2.14222733e-02,\n",
       "        9.79765742e-03, 1.35149573e-05, 3.62674239e-03, 5.15593812e-03,\n",
       "        9.71645927e-03, 0.00000000e+00, 4.61461711e-03, 2.80124591e-03,\n",
       "        5.60252796e-03, 4.15451231e-03, 8.95862792e-03, 1.12727391e-02,\n",
       "        1.53596224e-02, 1.42093514e-02, 1.47235702e-02, 1.30184452e-02,\n",
       "        1.13268532e-02, 6.77986503e-03, 1.16516638e-02, 1.34650350e-02,\n",
       "        1.70105973e-02, 2.29244210e-02, 2.27349587e-02, 2.33844897e-02,\n",
       "        2.52520110e-02, 3.64029891e-02, 3.65789184e-02, 4.19108039e-02,\n",
       "        4.43737423e-02, 4.52668858e-02, 4.67555186e-02, 4.30204939e-02,\n",
       "        4.38459723e-02, 4.33994006e-02, 4.41166329e-02, 4.08687790e-02,\n",
       "        4.42519631e-02, 4.91372588e-02, 5.05040763e-02, 4.68231657e-02,\n",
       "        5.25746111e-02, 5.45909415e-02, 5.92732599e-02, 5.81229708e-02,\n",
       "        5.94356562e-02, 6.28459063e-02, 6.42668559e-02, 6.57013205e-02,\n",
       "        6.48216919e-02, 6.73116963e-02, 6.79883476e-02, 6.81777738e-02,\n",
       "        7.25894678e-02, 7.69605447e-02, 7.49035609e-02, 7.44569892e-02,\n",
       "        7.11008711e-02, 9.08992356e-02, 1.00710444e-01, 1.06610699e-01,\n",
       "        1.04810860e-01, 9.47154403e-02, 9.41200233e-02, 1.03647056e-01,\n",
       "        9.34298571e-02, 1.00548048e-01, 9.01684522e-02, 8.65281587e-02,\n",
       "        7.33473172e-02, 5.92867749e-02, 8.38215898e-02, 8.72454271e-02,\n",
       "        9.47831235e-02, 8.97354315e-02, 8.35915464e-02, 8.41328674e-02,\n",
       "        8.16157970e-02, 7.61756292e-02, 6.18580497e-02, 6.80289647e-02,\n",
       "        7.40374473e-02, 7.19534337e-02, 7.04512859e-02, 8.29555123e-02],\n",
       "       [2.56038878e-02, 2.50760817e-02, 2.69706691e-02, 2.44400837e-02,\n",
       "        2.12057268e-02, 2.51708129e-02, 2.35198380e-02, 1.87833875e-02,\n",
       "        3.11116846e-02, 2.66323796e-02, 2.16793646e-02, 7.71362572e-03,\n",
       "        1.49130326e-02, 1.87969205e-02, 2.14222733e-02, 9.79765742e-03,\n",
       "        1.35149573e-05, 3.62674239e-03, 5.15593812e-03, 9.71645927e-03,\n",
       "        0.00000000e+00, 4.61461711e-03, 2.80124591e-03, 5.60252796e-03,\n",
       "        4.15451231e-03, 8.95862792e-03, 1.12727391e-02, 1.53596224e-02,\n",
       "        1.42093514e-02, 1.47235702e-02, 1.30184452e-02, 1.13268532e-02,\n",
       "        6.77986503e-03, 1.16516638e-02, 1.34650350e-02, 1.70105973e-02,\n",
       "        2.29244210e-02, 2.27349587e-02, 2.33844897e-02, 2.52520110e-02,\n",
       "        3.64029891e-02, 3.65789184e-02, 4.19108039e-02, 4.43737423e-02,\n",
       "        4.52668858e-02, 4.67555186e-02, 4.30204939e-02, 4.38459723e-02,\n",
       "        4.33994006e-02, 4.41166329e-02, 4.08687790e-02, 4.42519631e-02,\n",
       "        4.91372588e-02, 5.05040763e-02, 4.68231657e-02, 5.25746111e-02,\n",
       "        5.45909415e-02, 5.92732599e-02, 5.81229708e-02, 5.94356562e-02,\n",
       "        6.28459063e-02, 6.42668559e-02, 6.57013205e-02, 6.48216919e-02,\n",
       "        6.73116963e-02, 6.79883476e-02, 6.81777738e-02, 7.25894678e-02,\n",
       "        7.69605447e-02, 7.49035609e-02, 7.44569892e-02, 7.11008711e-02,\n",
       "        9.08992356e-02, 1.00710444e-01, 1.06610699e-01, 1.04810860e-01,\n",
       "        9.47154403e-02, 9.41200233e-02, 1.03647056e-01, 9.34298571e-02,\n",
       "        1.00548048e-01, 9.01684522e-02, 8.65281587e-02, 7.33473172e-02,\n",
       "        5.92867749e-02, 8.38215898e-02, 8.72454271e-02, 9.47831235e-02,\n",
       "        8.97354315e-02, 8.35915464e-02, 8.41328674e-02, 8.16157970e-02,\n",
       "        7.61756292e-02, 6.18580497e-02, 6.80289647e-02, 7.40374473e-02,\n",
       "        7.19534337e-02, 7.04512859e-02, 8.29555123e-02, 8.77325799e-02],\n",
       "       [2.50760817e-02, 2.69706691e-02, 2.44400837e-02, 2.12057268e-02,\n",
       "        2.51708129e-02, 2.35198380e-02, 1.87833875e-02, 3.11116846e-02,\n",
       "        2.66323796e-02, 2.16793646e-02, 7.71362572e-03, 1.49130326e-02,\n",
       "        1.87969205e-02, 2.14222733e-02, 9.79765742e-03, 1.35149573e-05,\n",
       "        3.62674239e-03, 5.15593812e-03, 9.71645927e-03, 0.00000000e+00,\n",
       "        4.61461711e-03, 2.80124591e-03, 5.60252796e-03, 4.15451231e-03,\n",
       "        8.95862792e-03, 1.12727391e-02, 1.53596224e-02, 1.42093514e-02,\n",
       "        1.47235702e-02, 1.30184452e-02, 1.13268532e-02, 6.77986503e-03,\n",
       "        1.16516638e-02, 1.34650350e-02, 1.70105973e-02, 2.29244210e-02,\n",
       "        2.27349587e-02, 2.33844897e-02, 2.52520110e-02, 3.64029891e-02,\n",
       "        3.65789184e-02, 4.19108039e-02, 4.43737423e-02, 4.52668858e-02,\n",
       "        4.67555186e-02, 4.30204939e-02, 4.38459723e-02, 4.33994006e-02,\n",
       "        4.41166329e-02, 4.08687790e-02, 4.42519631e-02, 4.91372588e-02,\n",
       "        5.05040763e-02, 4.68231657e-02, 5.25746111e-02, 5.45909415e-02,\n",
       "        5.92732599e-02, 5.81229708e-02, 5.94356562e-02, 6.28459063e-02,\n",
       "        6.42668559e-02, 6.57013205e-02, 6.48216919e-02, 6.73116963e-02,\n",
       "        6.79883476e-02, 6.81777738e-02, 7.25894678e-02, 7.69605447e-02,\n",
       "        7.49035609e-02, 7.44569892e-02, 7.11008711e-02, 9.08992356e-02,\n",
       "        1.00710444e-01, 1.06610699e-01, 1.04810860e-01, 9.47154403e-02,\n",
       "        9.41200233e-02, 1.03647056e-01, 9.34298571e-02, 1.00548048e-01,\n",
       "        9.01684522e-02, 8.65281587e-02, 7.33473172e-02, 5.92867749e-02,\n",
       "        8.38215898e-02, 8.72454271e-02, 9.47831235e-02, 8.97354315e-02,\n",
       "        8.35915464e-02, 8.41328674e-02, 8.16157970e-02, 7.61756292e-02,\n",
       "        6.18580497e-02, 6.80289647e-02, 7.40374473e-02, 7.19534337e-02,\n",
       "        7.04512859e-02, 8.29555123e-02, 8.77325799e-02, 9.30779985e-02],\n",
       "       [2.69706691e-02, 2.44400837e-02, 2.12057268e-02, 2.51708129e-02,\n",
       "        2.35198380e-02, 1.87833875e-02, 3.11116846e-02, 2.66323796e-02,\n",
       "        2.16793646e-02, 7.71362572e-03, 1.49130326e-02, 1.87969205e-02,\n",
       "        2.14222733e-02, 9.79765742e-03, 1.35149573e-05, 3.62674239e-03,\n",
       "        5.15593812e-03, 9.71645927e-03, 0.00000000e+00, 4.61461711e-03,\n",
       "        2.80124591e-03, 5.60252796e-03, 4.15451231e-03, 8.95862792e-03,\n",
       "        1.12727391e-02, 1.53596224e-02, 1.42093514e-02, 1.47235702e-02,\n",
       "        1.30184452e-02, 1.13268532e-02, 6.77986503e-03, 1.16516638e-02,\n",
       "        1.34650350e-02, 1.70105973e-02, 2.29244210e-02, 2.27349587e-02,\n",
       "        2.33844897e-02, 2.52520110e-02, 3.64029891e-02, 3.65789184e-02,\n",
       "        4.19108039e-02, 4.43737423e-02, 4.52668858e-02, 4.67555186e-02,\n",
       "        4.30204939e-02, 4.38459723e-02, 4.33994006e-02, 4.41166329e-02,\n",
       "        4.08687790e-02, 4.42519631e-02, 4.91372588e-02, 5.05040763e-02,\n",
       "        4.68231657e-02, 5.25746111e-02, 5.45909415e-02, 5.92732599e-02,\n",
       "        5.81229708e-02, 5.94356562e-02, 6.28459063e-02, 6.42668559e-02,\n",
       "        6.57013205e-02, 6.48216919e-02, 6.73116963e-02, 6.79883476e-02,\n",
       "        6.81777738e-02, 7.25894678e-02, 7.69605447e-02, 7.49035609e-02,\n",
       "        7.44569892e-02, 7.11008711e-02, 9.08992356e-02, 1.00710444e-01,\n",
       "        1.06610699e-01, 1.04810860e-01, 9.47154403e-02, 9.41200233e-02,\n",
       "        1.03647056e-01, 9.34298571e-02, 1.00548048e-01, 9.01684522e-02,\n",
       "        8.65281587e-02, 7.33473172e-02, 5.92867749e-02, 8.38215898e-02,\n",
       "        8.72454271e-02, 9.47831235e-02, 8.97354315e-02, 8.35915464e-02,\n",
       "        8.41328674e-02, 8.16157970e-02, 7.61756292e-02, 6.18580497e-02,\n",
       "        6.80289647e-02, 7.40374473e-02, 7.19534337e-02, 7.04512859e-02,\n",
       "        8.29555123e-02, 8.77325799e-02, 9.30779985e-02, 9.73002301e-02]])"
      ]
     },
     "execution_count": 53,
     "metadata": {},
     "output_type": "execute_result"
    }
   ],
   "source": [
    "X_train[:5]"
   ]
  },
  {
   "cell_type": "code",
   "execution_count": 54,
   "id": "541bdcb7-ace8-461e-a2ba-6ff0bc116865",
   "metadata": {},
   "outputs": [
    {
     "data": {
      "text/plain": [
       "array([0.08295551, 0.08773258, 0.093078  , 0.09730023, 0.09617701])"
      ]
     },
     "execution_count": 54,
     "metadata": {},
     "output_type": "execute_result"
    }
   ],
   "source": [
    "y_train[:5]"
   ]
  },
  {
   "cell_type": "code",
   "execution_count": 55,
   "id": "82ac1c62-3354-4105-8f40-44a7e0d462bf",
   "metadata": {},
   "outputs": [
    {
     "data": {
      "text/plain": [
       "(655,)"
      ]
     },
     "execution_count": 55,
     "metadata": {},
     "output_type": "execute_result"
    }
   ],
   "source": [
    "y_test.shape"
   ]
  },
  {
   "cell_type": "code",
   "execution_count": 56,
   "id": "0fef913f-c61b-420f-9924-ecc5da6777fc",
   "metadata": {},
   "outputs": [
    {
     "data": {
      "text/plain": [
       "(655, 100)"
      ]
     },
     "execution_count": 56,
     "metadata": {},
     "output_type": "execute_result"
    }
   ],
   "source": [
    "X_test.shape"
   ]
  },
  {
   "cell_type": "code",
   "execution_count": 57,
   "id": "39d5e1a0-3fb1-4106-bf03-4c508191af06",
   "metadata": {},
   "outputs": [],
   "source": [
    "X_train = X_train.reshape(X_train.shape[0],X_train.shape[1],1)\n",
    "X_test = X_test.reshape(X_test.shape[0],X_test.shape[1],1)"
   ]
  },
  {
   "cell_type": "code",
   "execution_count": 58,
   "id": "2552652f-4f5b-4261-873d-dc3192a6d4f4",
   "metadata": {},
   "outputs": [
    {
     "name": "stdout",
     "output_type": "stream",
     "text": [
      "Requirement already satisfied: tensorflow in c:\\users\\dell\\stocks\\env\\lib\\site-packages (2.16.1)\n",
      "Requirement already satisfied: tensorflow-intel==2.16.1 in c:\\users\\dell\\stocks\\env\\lib\\site-packages (from tensorflow) (2.16.1)\n",
      "Requirement already satisfied: absl-py>=1.0.0 in c:\\users\\dell\\stocks\\env\\lib\\site-packages (from tensorflow-intel==2.16.1->tensorflow) (2.1.0)\n",
      "Requirement already satisfied: astunparse>=1.6.0 in c:\\users\\dell\\stocks\\env\\lib\\site-packages (from tensorflow-intel==2.16.1->tensorflow) (1.6.3)\n",
      "Requirement already satisfied: flatbuffers>=23.5.26 in c:\\users\\dell\\stocks\\env\\lib\\site-packages (from tensorflow-intel==2.16.1->tensorflow) (24.3.25)\n",
      "Requirement already satisfied: gast!=0.5.0,!=0.5.1,!=0.5.2,>=0.2.1 in c:\\users\\dell\\stocks\\env\\lib\\site-packages (from tensorflow-intel==2.16.1->tensorflow) (0.5.4)\n",
      "Requirement already satisfied: google-pasta>=0.1.1 in c:\\users\\dell\\stocks\\env\\lib\\site-packages (from tensorflow-intel==2.16.1->tensorflow) (0.2.0)\n",
      "Requirement already satisfied: h5py>=3.10.0 in c:\\users\\dell\\stocks\\env\\lib\\site-packages (from tensorflow-intel==2.16.1->tensorflow) (3.11.0)\n",
      "Requirement already satisfied: libclang>=13.0.0 in c:\\users\\dell\\stocks\\env\\lib\\site-packages (from tensorflow-intel==2.16.1->tensorflow) (18.1.1)\n",
      "Requirement already satisfied: ml-dtypes~=0.3.1 in c:\\users\\dell\\stocks\\env\\lib\\site-packages (from tensorflow-intel==2.16.1->tensorflow) (0.3.1)\n",
      "Requirement already satisfied: opt-einsum>=2.3.2 in c:\\users\\dell\\stocks\\env\\lib\\site-packages (from tensorflow-intel==2.16.1->tensorflow) (3.3.0)\n",
      "Requirement already satisfied: packaging in c:\\users\\dell\\appdata\\roaming\\python\\python312\\site-packages (from tensorflow-intel==2.16.1->tensorflow) (24.1)\n",
      "Requirement already satisfied: protobuf!=4.21.0,!=4.21.1,!=4.21.2,!=4.21.3,!=4.21.4,!=4.21.5,<5.0.0dev,>=3.20.3 in c:\\users\\dell\\stocks\\env\\lib\\site-packages (from tensorflow-intel==2.16.1->tensorflow) (4.25.3)\n",
      "Requirement already satisfied: requests<3,>=2.21.0 in c:\\users\\dell\\appdata\\roaming\\python\\python312\\site-packages (from tensorflow-intel==2.16.1->tensorflow) (2.31.0)\n",
      "Requirement already satisfied: setuptools in c:\\users\\dell\\stocks\\env\\lib\\site-packages (from tensorflow-intel==2.16.1->tensorflow) (69.5.1)\n",
      "Requirement already satisfied: six>=1.12.0 in c:\\users\\dell\\appdata\\roaming\\python\\python312\\site-packages (from tensorflow-intel==2.16.1->tensorflow) (1.16.0)\n",
      "Requirement already satisfied: termcolor>=1.1.0 in c:\\users\\dell\\stocks\\env\\lib\\site-packages (from tensorflow-intel==2.16.1->tensorflow) (2.4.0)\n",
      "Requirement already satisfied: typing-extensions>=3.6.6 in c:\\users\\dell\\appdata\\roaming\\python\\python312\\site-packages (from tensorflow-intel==2.16.1->tensorflow) (4.11.0)\n",
      "Requirement already satisfied: wrapt>=1.11.0 in c:\\users\\dell\\stocks\\env\\lib\\site-packages (from tensorflow-intel==2.16.1->tensorflow) (1.16.0)\n",
      "Requirement already satisfied: grpcio<2.0,>=1.24.3 in c:\\users\\dell\\stocks\\env\\lib\\site-packages (from tensorflow-intel==2.16.1->tensorflow) (1.64.1)\n",
      "Requirement already satisfied: tensorboard<2.17,>=2.16 in c:\\users\\dell\\stocks\\env\\lib\\site-packages (from tensorflow-intel==2.16.1->tensorflow) (2.16.2)\n",
      "Requirement already satisfied: keras>=3.0.0 in c:\\users\\dell\\stocks\\env\\lib\\site-packages (from tensorflow-intel==2.16.1->tensorflow) (3.0.5)\n",
      "Requirement already satisfied: numpy<2.0.0,>=1.26.0 in c:\\users\\dell\\stocks\\env\\lib\\site-packages (from tensorflow-intel==2.16.1->tensorflow) (1.26.4)\n",
      "Requirement already satisfied: wheel<1.0,>=0.23.0 in c:\\users\\dell\\stocks\\env\\lib\\site-packages (from astunparse>=1.6.0->tensorflow-intel==2.16.1->tensorflow) (0.43.0)\n",
      "Requirement already satisfied: rich in c:\\users\\dell\\appdata\\roaming\\python\\python312\\site-packages (from keras>=3.0.0->tensorflow-intel==2.16.1->tensorflow) (13.7.1)\n",
      "Requirement already satisfied: namex in c:\\users\\dell\\stocks\\env\\lib\\site-packages (from keras>=3.0.0->tensorflow-intel==2.16.1->tensorflow) (0.0.7)\n",
      "Requirement already satisfied: dm-tree in c:\\users\\dell\\stocks\\env\\lib\\site-packages (from keras>=3.0.0->tensorflow-intel==2.16.1->tensorflow) (0.1.7)\n",
      "Requirement already satisfied: charset-normalizer<4,>=2 in c:\\users\\dell\\appdata\\roaming\\python\\python312\\site-packages (from requests<3,>=2.21.0->tensorflow-intel==2.16.1->tensorflow) (3.3.2)\n",
      "Requirement already satisfied: idna<4,>=2.5 in c:\\users\\dell\\appdata\\roaming\\python\\python312\\site-packages (from requests<3,>=2.21.0->tensorflow-intel==2.16.1->tensorflow) (3.7)\n",
      "Requirement already satisfied: urllib3<3,>=1.21.1 in c:\\users\\dell\\appdata\\roaming\\python\\python312\\site-packages (from requests<3,>=2.21.0->tensorflow-intel==2.16.1->tensorflow) (2.2.1)\n",
      "Requirement already satisfied: certifi>=2017.4.17 in c:\\users\\dell\\appdata\\roaming\\python\\python312\\site-packages (from requests<3,>=2.21.0->tensorflow-intel==2.16.1->tensorflow) (2024.2.2)\n",
      "Requirement already satisfied: markdown>=2.6.8 in c:\\users\\dell\\stocks\\env\\lib\\site-packages (from tensorboard<2.17,>=2.16->tensorflow-intel==2.16.1->tensorflow) (3.6)\n",
      "Requirement already satisfied: tensorboard-data-server<0.8.0,>=0.7.0 in c:\\users\\dell\\stocks\\env\\lib\\site-packages (from tensorboard<2.17,>=2.16->tensorflow-intel==2.16.1->tensorflow) (0.7.2)\n",
      "Requirement already satisfied: werkzeug>=1.0.1 in c:\\users\\dell\\appdata\\roaming\\python\\python312\\site-packages (from tensorboard<2.17,>=2.16->tensorflow-intel==2.16.1->tensorflow) (3.0.3)\n",
      "Requirement already satisfied: MarkupSafe>=2.1.1 in c:\\users\\dell\\appdata\\roaming\\python\\python312\\site-packages (from werkzeug>=1.0.1->tensorboard<2.17,>=2.16->tensorflow-intel==2.16.1->tensorflow) (2.1.5)\n",
      "Requirement already satisfied: markdown-it-py>=2.2.0 in c:\\users\\dell\\appdata\\roaming\\python\\python312\\site-packages (from rich->keras>=3.0.0->tensorflow-intel==2.16.1->tensorflow) (3.0.0)\n",
      "Requirement already satisfied: pygments<3.0.0,>=2.13.0 in c:\\users\\dell\\appdata\\roaming\\python\\python312\\site-packages (from rich->keras>=3.0.0->tensorflow-intel==2.16.1->tensorflow) (2.18.0)\n",
      "Requirement already satisfied: mdurl~=0.1 in c:\\users\\dell\\appdata\\roaming\\python\\python312\\site-packages (from markdown-it-py>=2.2.0->rich->keras>=3.0.0->tensorflow-intel==2.16.1->tensorflow) (0.1.2)\n",
      "Note: you may need to restart the kernel to use updated packages.\n"
     ]
    }
   ],
   "source": [
    "pip install tensorflow"
   ]
  },
  {
   "cell_type": "code",
   "execution_count": 59,
   "id": "6e36d162-e71d-4d59-bb51-b044b2906534",
   "metadata": {},
   "outputs": [
    {
     "name": "stdout",
     "output_type": "stream",
     "text": [
      "Requirement already satisfied: keras in c:\\users\\dell\\stocks\\env\\lib\\site-packages (3.0.5)\n",
      "Requirement already satisfied: absl-py in c:\\users\\dell\\stocks\\env\\lib\\site-packages (from keras) (2.1.0)\n",
      "Requirement already satisfied: numpy in c:\\users\\dell\\stocks\\env\\lib\\site-packages (from keras) (1.26.4)\n",
      "Requirement already satisfied: rich in c:\\users\\dell\\appdata\\roaming\\python\\python312\\site-packages (from keras) (13.7.1)\n",
      "Requirement already satisfied: namex in c:\\users\\dell\\stocks\\env\\lib\\site-packages (from keras) (0.0.7)\n",
      "Requirement already satisfied: h5py in c:\\users\\dell\\stocks\\env\\lib\\site-packages (from keras) (3.11.0)\n",
      "Requirement already satisfied: dm-tree in c:\\users\\dell\\stocks\\env\\lib\\site-packages (from keras) (0.1.7)\n",
      "Requirement already satisfied: ml-dtypes in c:\\users\\dell\\stocks\\env\\lib\\site-packages (from keras) (0.3.1)\n",
      "Requirement already satisfied: markdown-it-py>=2.2.0 in c:\\users\\dell\\appdata\\roaming\\python\\python312\\site-packages (from rich->keras) (3.0.0)\n",
      "Requirement already satisfied: pygments<3.0.0,>=2.13.0 in c:\\users\\dell\\appdata\\roaming\\python\\python312\\site-packages (from rich->keras) (2.18.0)\n",
      "Requirement already satisfied: mdurl~=0.1 in c:\\users\\dell\\appdata\\roaming\\python\\python312\\site-packages (from markdown-it-py>=2.2.0->rich->keras) (0.1.2)\n",
      "Note: you may need to restart the kernel to use updated packages.\n"
     ]
    }
   ],
   "source": [
    "pip install keras"
   ]
  },
  {
   "cell_type": "code",
   "execution_count": 60,
   "id": "67a38927-e0a5-431d-978b-791e118faf61",
   "metadata": {},
   "outputs": [],
   "source": [
    "from keras.models import Sequential\n",
    "from keras.layers import Dense\n",
    "from keras.layers import LSTM"
   ]
  },
  {
   "cell_type": "code",
   "execution_count": 36,
   "id": "f7f1b1c3-846f-4c83-a5e1-2aca286a8c4d",
   "metadata": {},
   "outputs": [
    {
     "name": "stderr",
     "output_type": "stream",
     "text": [
      "C:\\Users\\DELL\\stocks\\env\\Lib\\site-packages\\keras\\layers\\rnn\\rnn.py:205: UserWarning: Do not pass an `input_shape`/`input_dim` argument to a layer. When using Sequential models, prefer using an `Input(shape)` object as the first layer in the model instead.\n",
      "  super().__init__(**kwargs)\n"
     ]
    },
    {
     "data": {
      "text/html": [
       "<pre style=\"white-space:pre;overflow-x:auto;line-height:normal;font-family:Menlo,'DejaVu Sans Mono',consolas,'Courier New',monospace\"><span style=\"font-weight: bold\">Model: \"sequential\"</span>\n",
       "</pre>\n"
      ],
      "text/plain": [
       "\u001b[1mModel: \"sequential\"\u001b[0m\n"
      ]
     },
     "metadata": {},
     "output_type": "display_data"
    },
    {
     "data": {
      "text/html": [
       "<pre style=\"white-space:pre;overflow-x:auto;line-height:normal;font-family:Menlo,'DejaVu Sans Mono',consolas,'Courier New',monospace\">┏━━━━━━━━━━━━━━━━━━━━━━━━━━━━━━━━━━━━━━┳━━━━━━━━━━━━━━━━━━━━━━━━━━━━━┳━━━━━━━━━━━━━━━━━┓\n",
       "┃<span style=\"font-weight: bold\"> Layer (type)                         </span>┃<span style=\"font-weight: bold\"> Output Shape                </span>┃<span style=\"font-weight: bold\">         Param # </span>┃\n",
       "┡━━━━━━━━━━━━━━━━━━━━━━━━━━━━━━━━━━━━━━╇━━━━━━━━━━━━━━━━━━━━━━━━━━━━━╇━━━━━━━━━━━━━━━━━┩\n",
       "│ lstm (<span style=\"color: #0087ff; text-decoration-color: #0087ff\">LSTM</span>)                          │ (<span style=\"color: #00d7ff; text-decoration-color: #00d7ff\">None</span>, <span style=\"color: #00af00; text-decoration-color: #00af00\">100</span>, <span style=\"color: #00af00; text-decoration-color: #00af00\">50</span>)             │          <span style=\"color: #00af00; text-decoration-color: #00af00\">10,400</span> │\n",
       "├──────────────────────────────────────┼─────────────────────────────┼─────────────────┤\n",
       "│ lstm_1 (<span style=\"color: #0087ff; text-decoration-color: #0087ff\">LSTM</span>)                        │ (<span style=\"color: #00d7ff; text-decoration-color: #00d7ff\">None</span>, <span style=\"color: #00af00; text-decoration-color: #00af00\">100</span>, <span style=\"color: #00af00; text-decoration-color: #00af00\">50</span>)             │          <span style=\"color: #00af00; text-decoration-color: #00af00\">20,200</span> │\n",
       "├──────────────────────────────────────┼─────────────────────────────┼─────────────────┤\n",
       "│ lstm_2 (<span style=\"color: #0087ff; text-decoration-color: #0087ff\">LSTM</span>)                        │ (<span style=\"color: #00d7ff; text-decoration-color: #00d7ff\">None</span>, <span style=\"color: #00af00; text-decoration-color: #00af00\">50</span>)                  │          <span style=\"color: #00af00; text-decoration-color: #00af00\">20,200</span> │\n",
       "├──────────────────────────────────────┼─────────────────────────────┼─────────────────┤\n",
       "│ dense (<span style=\"color: #0087ff; text-decoration-color: #0087ff\">Dense</span>)                        │ (<span style=\"color: #00d7ff; text-decoration-color: #00d7ff\">None</span>, <span style=\"color: #00af00; text-decoration-color: #00af00\">1</span>)                   │              <span style=\"color: #00af00; text-decoration-color: #00af00\">51</span> │\n",
       "└──────────────────────────────────────┴─────────────────────────────┴─────────────────┘\n",
       "</pre>\n"
      ],
      "text/plain": [
       "┏━━━━━━━━━━━━━━━━━━━━━━━━━━━━━━━━━━━━━━┳━━━━━━━━━━━━━━━━━━━━━━━━━━━━━┳━━━━━━━━━━━━━━━━━┓\n",
       "┃\u001b[1m \u001b[0m\u001b[1mLayer (type)                        \u001b[0m\u001b[1m \u001b[0m┃\u001b[1m \u001b[0m\u001b[1mOutput Shape               \u001b[0m\u001b[1m \u001b[0m┃\u001b[1m \u001b[0m\u001b[1m        Param #\u001b[0m\u001b[1m \u001b[0m┃\n",
       "┡━━━━━━━━━━━━━━━━━━━━━━━━━━━━━━━━━━━━━━╇━━━━━━━━━━━━━━━━━━━━━━━━━━━━━╇━━━━━━━━━━━━━━━━━┩\n",
       "│ lstm (\u001b[38;5;33mLSTM\u001b[0m)                          │ (\u001b[38;5;45mNone\u001b[0m, \u001b[38;5;34m100\u001b[0m, \u001b[38;5;34m50\u001b[0m)             │          \u001b[38;5;34m10,400\u001b[0m │\n",
       "├──────────────────────────────────────┼─────────────────────────────┼─────────────────┤\n",
       "│ lstm_1 (\u001b[38;5;33mLSTM\u001b[0m)                        │ (\u001b[38;5;45mNone\u001b[0m, \u001b[38;5;34m100\u001b[0m, \u001b[38;5;34m50\u001b[0m)             │          \u001b[38;5;34m20,200\u001b[0m │\n",
       "├──────────────────────────────────────┼─────────────────────────────┼─────────────────┤\n",
       "│ lstm_2 (\u001b[38;5;33mLSTM\u001b[0m)                        │ (\u001b[38;5;45mNone\u001b[0m, \u001b[38;5;34m50\u001b[0m)                  │          \u001b[38;5;34m20,200\u001b[0m │\n",
       "├──────────────────────────────────────┼─────────────────────────────┼─────────────────┤\n",
       "│ dense (\u001b[38;5;33mDense\u001b[0m)                        │ (\u001b[38;5;45mNone\u001b[0m, \u001b[38;5;34m1\u001b[0m)                   │              \u001b[38;5;34m51\u001b[0m │\n",
       "└──────────────────────────────────────┴─────────────────────────────┴─────────────────┘\n"
      ]
     },
     "metadata": {},
     "output_type": "display_data"
    },
    {
     "data": {
      "text/html": [
       "<pre style=\"white-space:pre;overflow-x:auto;line-height:normal;font-family:Menlo,'DejaVu Sans Mono',consolas,'Courier New',monospace\"><span style=\"font-weight: bold\"> Total params: </span><span style=\"color: #00af00; text-decoration-color: #00af00\">50,851</span> (198.64 KB)\n",
       "</pre>\n"
      ],
      "text/plain": [
       "\u001b[1m Total params: \u001b[0m\u001b[38;5;34m50,851\u001b[0m (198.64 KB)\n"
      ]
     },
     "metadata": {},
     "output_type": "display_data"
    },
    {
     "data": {
      "text/html": [
       "<pre style=\"white-space:pre;overflow-x:auto;line-height:normal;font-family:Menlo,'DejaVu Sans Mono',consolas,'Courier New',monospace\"><span style=\"font-weight: bold\"> Trainable params: </span><span style=\"color: #00af00; text-decoration-color: #00af00\">50,851</span> (198.64 KB)\n",
       "</pre>\n"
      ],
      "text/plain": [
       "\u001b[1m Trainable params: \u001b[0m\u001b[38;5;34m50,851\u001b[0m (198.64 KB)\n"
      ]
     },
     "metadata": {},
     "output_type": "display_data"
    },
    {
     "data": {
      "text/html": [
       "<pre style=\"white-space:pre;overflow-x:auto;line-height:normal;font-family:Menlo,'DejaVu Sans Mono',consolas,'Courier New',monospace\"><span style=\"font-weight: bold\"> Non-trainable params: </span><span style=\"color: #00af00; text-decoration-color: #00af00\">0</span> (0.00 B)\n",
       "</pre>\n"
      ],
      "text/plain": [
       "\u001b[1m Non-trainable params: \u001b[0m\u001b[38;5;34m0\u001b[0m (0.00 B)\n"
      ]
     },
     "metadata": {},
     "output_type": "display_data"
    }
   ],
   "source": [
    "model = Sequential()\n",
    "model.add(LSTM(50,return_sequences=True,input_shape=(100,1)))\n",
    "model.add(LSTM(50,return_sequences=True))\n",
    "model.add(LSTM(50))\n",
    "model.add(Dense(1))\n",
    "model.compile(loss='mean_squared_error',optimizer='adam')\n",
    "model.summary()"
   ]
  },
  {
   "cell_type": "code",
   "execution_count": 37,
   "id": "bb5af040-1759-4386-a1af-d90f483e9e81",
   "metadata": {},
   "outputs": [
    {
     "name": "stdout",
     "output_type": "stream",
     "text": [
      "Epoch 1/100\n",
      "\u001b[1m26/26\u001b[0m \u001b[32m━━━━━━━━━━━━━━━━━━━━\u001b[0m\u001b[37m\u001b[0m \u001b[1m9s\u001b[0m 161ms/step - loss: 0.1180 - val_loss: 0.0105\n",
      "Epoch 2/100\n",
      "\u001b[1m26/26\u001b[0m \u001b[32m━━━━━━━━━━━━━━━━━━━━\u001b[0m\u001b[37m\u001b[0m \u001b[1m3s\u001b[0m 129ms/step - loss: 0.0055 - val_loss: 0.0018\n",
      "Epoch 3/100\n",
      "\u001b[1m26/26\u001b[0m \u001b[32m━━━━━━━━━━━━━━━━━━━━\u001b[0m\u001b[37m\u001b[0m \u001b[1m3s\u001b[0m 123ms/step - loss: 0.0017 - val_loss: 0.0014\n",
      "Epoch 4/100\n",
      "\u001b[1m26/26\u001b[0m \u001b[32m━━━━━━━━━━━━━━━━━━━━\u001b[0m\u001b[37m\u001b[0m \u001b[1m4s\u001b[0m 167ms/step - loss: 0.0014 - val_loss: 0.0015\n",
      "Epoch 5/100\n",
      "\u001b[1m26/26\u001b[0m \u001b[32m━━━━━━━━━━━━━━━━━━━━\u001b[0m\u001b[37m\u001b[0m \u001b[1m5s\u001b[0m 179ms/step - loss: 0.0013 - val_loss: 0.0013\n",
      "Epoch 6/100\n",
      "\u001b[1m26/26\u001b[0m \u001b[32m━━━━━━━━━━━━━━━━━━━━\u001b[0m\u001b[37m\u001b[0m \u001b[1m4s\u001b[0m 171ms/step - loss: 0.0014 - val_loss: 0.0013\n",
      "Epoch 7/100\n",
      "\u001b[1m26/26\u001b[0m \u001b[32m━━━━━━━━━━━━━━━━━━━━\u001b[0m\u001b[37m\u001b[0m \u001b[1m4s\u001b[0m 159ms/step - loss: 0.0013 - val_loss: 0.0013\n",
      "Epoch 8/100\n",
      "\u001b[1m26/26\u001b[0m \u001b[32m━━━━━━━━━━━━━━━━━━━━\u001b[0m\u001b[37m\u001b[0m \u001b[1m4s\u001b[0m 166ms/step - loss: 0.0013 - val_loss: 0.0013\n",
      "Epoch 9/100\n",
      "\u001b[1m26/26\u001b[0m \u001b[32m━━━━━━━━━━━━━━━━━━━━\u001b[0m\u001b[37m\u001b[0m \u001b[1m4s\u001b[0m 168ms/step - loss: 0.0012 - val_loss: 0.0013\n",
      "Epoch 10/100\n",
      "\u001b[1m26/26\u001b[0m \u001b[32m━━━━━━━━━━━━━━━━━━━━\u001b[0m\u001b[37m\u001b[0m \u001b[1m5s\u001b[0m 183ms/step - loss: 0.0012 - val_loss: 0.0014\n",
      "Epoch 11/100\n",
      "\u001b[1m26/26\u001b[0m \u001b[32m━━━━━━━━━━━━━━━━━━━━\u001b[0m\u001b[37m\u001b[0m \u001b[1m5s\u001b[0m 176ms/step - loss: 0.0014 - val_loss: 0.0012\n",
      "Epoch 12/100\n",
      "\u001b[1m26/26\u001b[0m \u001b[32m━━━━━━━━━━━━━━━━━━━━\u001b[0m\u001b[37m\u001b[0m \u001b[1m4s\u001b[0m 168ms/step - loss: 0.0012 - val_loss: 0.0011\n",
      "Epoch 13/100\n",
      "\u001b[1m26/26\u001b[0m \u001b[32m━━━━━━━━━━━━━━━━━━━━\u001b[0m\u001b[37m\u001b[0m \u001b[1m5s\u001b[0m 186ms/step - loss: 0.0011 - val_loss: 0.0013\n",
      "Epoch 14/100\n",
      "\u001b[1m26/26\u001b[0m \u001b[32m━━━━━━━━━━━━━━━━━━━━\u001b[0m\u001b[37m\u001b[0m \u001b[1m5s\u001b[0m 195ms/step - loss: 0.0011 - val_loss: 0.0010\n",
      "Epoch 15/100\n",
      "\u001b[1m26/26\u001b[0m \u001b[32m━━━━━━━━━━━━━━━━━━━━\u001b[0m\u001b[37m\u001b[0m \u001b[1m5s\u001b[0m 182ms/step - loss: 0.0010 - val_loss: 9.9427e-04\n",
      "Epoch 16/100\n",
      "\u001b[1m26/26\u001b[0m \u001b[32m━━━━━━━━━━━━━━━━━━━━\u001b[0m\u001b[37m\u001b[0m \u001b[1m4s\u001b[0m 165ms/step - loss: 0.0010 - val_loss: 9.6975e-04\n",
      "Epoch 17/100\n",
      "\u001b[1m26/26\u001b[0m \u001b[32m━━━━━━━━━━━━━━━━━━━━\u001b[0m\u001b[37m\u001b[0m \u001b[1m4s\u001b[0m 164ms/step - loss: 0.0011 - val_loss: 9.4668e-04\n",
      "Epoch 18/100\n",
      "\u001b[1m26/26\u001b[0m \u001b[32m━━━━━━━━━━━━━━━━━━━━\u001b[0m\u001b[37m\u001b[0m \u001b[1m5s\u001b[0m 181ms/step - loss: 9.5102e-04 - val_loss: 9.2182e-04\n",
      "Epoch 19/100\n",
      "\u001b[1m26/26\u001b[0m \u001b[32m━━━━━━━━━━━━━━━━━━━━\u001b[0m\u001b[37m\u001b[0m \u001b[1m5s\u001b[0m 173ms/step - loss: 8.8950e-04 - val_loss: 9.2384e-04\n",
      "Epoch 20/100\n",
      "\u001b[1m26/26\u001b[0m \u001b[32m━━━━━━━━━━━━━━━━━━━━\u001b[0m\u001b[37m\u001b[0m \u001b[1m4s\u001b[0m 172ms/step - loss: 8.7321e-04 - val_loss: 0.0010\n",
      "Epoch 21/100\n",
      "\u001b[1m26/26\u001b[0m \u001b[32m━━━━━━━━━━━━━━━━━━━━\u001b[0m\u001b[37m\u001b[0m \u001b[1m5s\u001b[0m 202ms/step - loss: 9.9456e-04 - val_loss: 8.9656e-04\n",
      "Epoch 22/100\n",
      "\u001b[1m26/26\u001b[0m \u001b[32m━━━━━━━━━━━━━━━━━━━━\u001b[0m\u001b[37m\u001b[0m \u001b[1m4s\u001b[0m 171ms/step - loss: 8.8070e-04 - val_loss: 0.0010\n",
      "Epoch 23/100\n",
      "\u001b[1m26/26\u001b[0m \u001b[32m━━━━━━━━━━━━━━━━━━━━\u001b[0m\u001b[37m\u001b[0m \u001b[1m4s\u001b[0m 163ms/step - loss: 9.1073e-04 - val_loss: 8.4352e-04\n",
      "Epoch 24/100\n",
      "\u001b[1m26/26\u001b[0m \u001b[32m━━━━━━━━━━━━━━━━━━━━\u001b[0m\u001b[37m\u001b[0m \u001b[1m5s\u001b[0m 180ms/step - loss: 8.3273e-04 - val_loss: 0.0011\n",
      "Epoch 25/100\n",
      "\u001b[1m26/26\u001b[0m \u001b[32m━━━━━━━━━━━━━━━━━━━━\u001b[0m\u001b[37m\u001b[0m \u001b[1m5s\u001b[0m 193ms/step - loss: 9.5921e-04 - val_loss: 8.5539e-04\n",
      "Epoch 26/100\n",
      "\u001b[1m26/26\u001b[0m \u001b[32m━━━━━━━━━━━━━━━━━━━━\u001b[0m\u001b[37m\u001b[0m \u001b[1m4s\u001b[0m 150ms/step - loss: 8.1885e-04 - val_loss: 7.9186e-04\n",
      "Epoch 27/100\n",
      "\u001b[1m26/26\u001b[0m \u001b[32m━━━━━━━━━━━━━━━━━━━━\u001b[0m\u001b[37m\u001b[0m \u001b[1m4s\u001b[0m 140ms/step - loss: 8.0149e-04 - val_loss: 7.7044e-04\n",
      "Epoch 28/100\n",
      "\u001b[1m26/26\u001b[0m \u001b[32m━━━━━━━━━━━━━━━━━━━━\u001b[0m\u001b[37m\u001b[0m \u001b[1m4s\u001b[0m 139ms/step - loss: 8.0807e-04 - val_loss: 8.2348e-04\n",
      "Epoch 29/100\n",
      "\u001b[1m26/26\u001b[0m \u001b[32m━━━━━━━━━━━━━━━━━━━━\u001b[0m\u001b[37m\u001b[0m \u001b[1m3s\u001b[0m 130ms/step - loss: 7.7024e-04 - val_loss: 7.9542e-04\n",
      "Epoch 30/100\n",
      "\u001b[1m26/26\u001b[0m \u001b[32m━━━━━━━━━━━━━━━━━━━━\u001b[0m\u001b[37m\u001b[0m \u001b[1m4s\u001b[0m 136ms/step - loss: 7.8411e-04 - val_loss: 7.4616e-04\n",
      "Epoch 31/100\n",
      "\u001b[1m26/26\u001b[0m \u001b[32m━━━━━━━━━━━━━━━━━━━━\u001b[0m\u001b[37m\u001b[0m \u001b[1m3s\u001b[0m 131ms/step - loss: 7.7771e-04 - val_loss: 7.1847e-04\n",
      "Epoch 32/100\n",
      "\u001b[1m26/26\u001b[0m \u001b[32m━━━━━━━━━━━━━━━━━━━━\u001b[0m\u001b[37m\u001b[0m \u001b[1m3s\u001b[0m 133ms/step - loss: 8.3011e-04 - val_loss: 7.1390e-04\n",
      "Epoch 33/100\n",
      "\u001b[1m26/26\u001b[0m \u001b[32m━━━━━━━━━━━━━━━━━━━━\u001b[0m\u001b[37m\u001b[0m \u001b[1m3s\u001b[0m 133ms/step - loss: 7.6326e-04 - val_loss: 0.0010\n",
      "Epoch 34/100\n",
      "\u001b[1m26/26\u001b[0m \u001b[32m━━━━━━━━━━━━━━━━━━━━\u001b[0m\u001b[37m\u001b[0m \u001b[1m4s\u001b[0m 140ms/step - loss: 8.1574e-04 - val_loss: 7.5901e-04\n",
      "Epoch 35/100\n",
      "\u001b[1m26/26\u001b[0m \u001b[32m━━━━━━━━━━━━━━━━━━━━\u001b[0m\u001b[37m\u001b[0m \u001b[1m3s\u001b[0m 127ms/step - loss: 8.3934e-04 - val_loss: 7.7328e-04\n",
      "Epoch 36/100\n",
      "\u001b[1m26/26\u001b[0m \u001b[32m━━━━━━━━━━━━━━━━━━━━\u001b[0m\u001b[37m\u001b[0m \u001b[1m4s\u001b[0m 136ms/step - loss: 8.2627e-04 - val_loss: 6.7320e-04\n",
      "Epoch 37/100\n",
      "\u001b[1m26/26\u001b[0m \u001b[32m━━━━━━━━━━━━━━━━━━━━\u001b[0m\u001b[37m\u001b[0m \u001b[1m4s\u001b[0m 138ms/step - loss: 7.2897e-04 - val_loss: 0.0012\n",
      "Epoch 38/100\n",
      "\u001b[1m26/26\u001b[0m \u001b[32m━━━━━━━━━━━━━━━━━━━━\u001b[0m\u001b[37m\u001b[0m \u001b[1m3s\u001b[0m 134ms/step - loss: 8.5994e-04 - val_loss: 0.0013\n",
      "Epoch 39/100\n",
      "\u001b[1m26/26\u001b[0m \u001b[32m━━━━━━━━━━━━━━━━━━━━\u001b[0m\u001b[37m\u001b[0m \u001b[1m8s\u001b[0m 332ms/step - loss: 0.0011 - val_loss: 7.8535e-04\n",
      "Epoch 40/100\n",
      "\u001b[1m26/26\u001b[0m \u001b[32m━━━━━━━━━━━━━━━━━━━━\u001b[0m\u001b[37m\u001b[0m \u001b[1m3s\u001b[0m 131ms/step - loss: 8.2308e-04 - val_loss: 7.6206e-04\n",
      "Epoch 41/100\n",
      "\u001b[1m26/26\u001b[0m \u001b[32m━━━━━━━━━━━━━━━━━━━━\u001b[0m\u001b[37m\u001b[0m \u001b[1m3s\u001b[0m 129ms/step - loss: 6.1150e-04 - val_loss: 6.2488e-04\n",
      "Epoch 42/100\n",
      "\u001b[1m26/26\u001b[0m \u001b[32m━━━━━━━━━━━━━━━━━━━━\u001b[0m\u001b[37m\u001b[0m \u001b[1m3s\u001b[0m 127ms/step - loss: 6.1952e-04 - val_loss: 6.0911e-04\n",
      "Epoch 43/100\n",
      "\u001b[1m26/26\u001b[0m \u001b[32m━━━━━━━━━━━━━━━━━━━━\u001b[0m\u001b[37m\u001b[0m \u001b[1m3s\u001b[0m 130ms/step - loss: 6.9116e-04 - val_loss: 6.0527e-04\n",
      "Epoch 44/100\n",
      "\u001b[1m26/26\u001b[0m \u001b[32m━━━━━━━━━━━━━━━━━━━━\u001b[0m\u001b[37m\u001b[0m \u001b[1m3s\u001b[0m 130ms/step - loss: 6.4324e-04 - val_loss: 5.9107e-04\n",
      "Epoch 45/100\n",
      "\u001b[1m26/26\u001b[0m \u001b[32m━━━━━━━━━━━━━━━━━━━━\u001b[0m\u001b[37m\u001b[0m \u001b[1m3s\u001b[0m 132ms/step - loss: 6.1576e-04 - val_loss: 5.8621e-04\n",
      "Epoch 46/100\n",
      "\u001b[1m26/26\u001b[0m \u001b[32m━━━━━━━━━━━━━━━━━━━━\u001b[0m\u001b[37m\u001b[0m \u001b[1m3s\u001b[0m 134ms/step - loss: 5.8920e-04 - val_loss: 5.7223e-04\n",
      "Epoch 47/100\n",
      "\u001b[1m26/26\u001b[0m \u001b[32m━━━━━━━━━━━━━━━━━━━━\u001b[0m\u001b[37m\u001b[0m \u001b[1m3s\u001b[0m 134ms/step - loss: 6.0396e-04 - val_loss: 5.7053e-04\n",
      "Epoch 48/100\n",
      "\u001b[1m26/26\u001b[0m \u001b[32m━━━━━━━━━━━━━━━━━━━━\u001b[0m\u001b[37m\u001b[0m \u001b[1m3s\u001b[0m 128ms/step - loss: 5.9923e-04 - val_loss: 5.5729e-04\n",
      "Epoch 49/100\n",
      "\u001b[1m26/26\u001b[0m \u001b[32m━━━━━━━━━━━━━━━━━━━━\u001b[0m\u001b[37m\u001b[0m \u001b[1m3s\u001b[0m 129ms/step - loss: 5.9806e-04 - val_loss: 5.4644e-04\n",
      "Epoch 50/100\n",
      "\u001b[1m26/26\u001b[0m \u001b[32m━━━━━━━━━━━━━━━━━━━━\u001b[0m\u001b[37m\u001b[0m \u001b[1m4s\u001b[0m 137ms/step - loss: 5.7373e-04 - val_loss: 6.5054e-04\n",
      "Epoch 51/100\n",
      "\u001b[1m26/26\u001b[0m \u001b[32m━━━━━━━━━━━━━━━━━━━━\u001b[0m\u001b[37m\u001b[0m \u001b[1m3s\u001b[0m 130ms/step - loss: 5.9780e-04 - val_loss: 5.1781e-04\n",
      "Epoch 52/100\n",
      "\u001b[1m26/26\u001b[0m \u001b[32m━━━━━━━━━━━━━━━━━━━━\u001b[0m\u001b[37m\u001b[0m \u001b[1m3s\u001b[0m 134ms/step - loss: 5.2994e-04 - val_loss: 5.7728e-04\n",
      "Epoch 53/100\n",
      "\u001b[1m26/26\u001b[0m \u001b[32m━━━━━━━━━━━━━━━━━━━━\u001b[0m\u001b[37m\u001b[0m \u001b[1m3s\u001b[0m 135ms/step - loss: 5.5644e-04 - val_loss: 5.0404e-04\n",
      "Epoch 54/100\n",
      "\u001b[1m26/26\u001b[0m \u001b[32m━━━━━━━━━━━━━━━━━━━━\u001b[0m\u001b[37m\u001b[0m \u001b[1m3s\u001b[0m 130ms/step - loss: 5.7211e-04 - val_loss: 5.2634e-04\n",
      "Epoch 55/100\n",
      "\u001b[1m26/26\u001b[0m \u001b[32m━━━━━━━━━━━━━━━━━━━━\u001b[0m\u001b[37m\u001b[0m \u001b[1m3s\u001b[0m 129ms/step - loss: 5.5905e-04 - val_loss: 4.9211e-04\n",
      "Epoch 56/100\n",
      "\u001b[1m26/26\u001b[0m \u001b[32m━━━━━━━━━━━━━━━━━━━━\u001b[0m\u001b[37m\u001b[0m \u001b[1m4s\u001b[0m 136ms/step - loss: 5.5072e-04 - val_loss: 4.8567e-04\n",
      "Epoch 57/100\n",
      "\u001b[1m26/26\u001b[0m \u001b[32m━━━━━━━━━━━━━━━━━━━━\u001b[0m\u001b[37m\u001b[0m \u001b[1m3s\u001b[0m 129ms/step - loss: 6.3296e-04 - val_loss: 4.8006e-04\n",
      "Epoch 58/100\n",
      "\u001b[1m26/26\u001b[0m \u001b[32m━━━━━━━━━━━━━━━━━━━━\u001b[0m\u001b[37m\u001b[0m \u001b[1m3s\u001b[0m 127ms/step - loss: 5.3911e-04 - val_loss: 4.6574e-04\n",
      "Epoch 59/100\n",
      "\u001b[1m26/26\u001b[0m \u001b[32m━━━━━━━━━━━━━━━━━━━━\u001b[0m\u001b[37m\u001b[0m \u001b[1m3s\u001b[0m 132ms/step - loss: 4.6613e-04 - val_loss: 4.5845e-04\n",
      "Epoch 60/100\n",
      "\u001b[1m26/26\u001b[0m \u001b[32m━━━━━━━━━━━━━━━━━━━━\u001b[0m\u001b[37m\u001b[0m \u001b[1m3s\u001b[0m 132ms/step - loss: 4.7764e-04 - val_loss: 4.7004e-04\n",
      "Epoch 61/100\n",
      "\u001b[1m26/26\u001b[0m \u001b[32m━━━━━━━━━━━━━━━━━━━━\u001b[0m\u001b[37m\u001b[0m \u001b[1m3s\u001b[0m 124ms/step - loss: 4.9057e-04 - val_loss: 4.4305e-04\n",
      "Epoch 62/100\n",
      "\u001b[1m26/26\u001b[0m \u001b[32m━━━━━━━━━━━━━━━━━━━━\u001b[0m\u001b[37m\u001b[0m \u001b[1m3s\u001b[0m 135ms/step - loss: 4.8453e-04 - val_loss: 5.3212e-04\n",
      "Epoch 63/100\n",
      "\u001b[1m26/26\u001b[0m \u001b[32m━━━━━━━━━━━━━━━━━━━━\u001b[0m\u001b[37m\u001b[0m \u001b[1m4s\u001b[0m 153ms/step - loss: 5.0960e-04 - val_loss: 4.9458e-04\n",
      "Epoch 64/100\n",
      "\u001b[1m26/26\u001b[0m \u001b[32m━━━━━━━━━━━━━━━━━━━━\u001b[0m\u001b[37m\u001b[0m \u001b[1m4s\u001b[0m 134ms/step - loss: 4.6440e-04 - val_loss: 4.3156e-04\n",
      "Epoch 65/100\n",
      "\u001b[1m26/26\u001b[0m \u001b[32m━━━━━━━━━━━━━━━━━━━━\u001b[0m\u001b[37m\u001b[0m \u001b[1m4s\u001b[0m 138ms/step - loss: 4.5475e-04 - val_loss: 4.0993e-04\n",
      "Epoch 66/100\n",
      "\u001b[1m26/26\u001b[0m \u001b[32m━━━━━━━━━━━━━━━━━━━━\u001b[0m\u001b[37m\u001b[0m \u001b[1m3s\u001b[0m 124ms/step - loss: 4.2525e-04 - val_loss: 4.6013e-04\n",
      "Epoch 67/100\n",
      "\u001b[1m26/26\u001b[0m \u001b[32m━━━━━━━━━━━━━━━━━━━━\u001b[0m\u001b[37m\u001b[0m \u001b[1m4s\u001b[0m 139ms/step - loss: 4.9424e-04 - val_loss: 5.3536e-04\n",
      "Epoch 68/100\n",
      "\u001b[1m26/26\u001b[0m \u001b[32m━━━━━━━━━━━━━━━━━━━━\u001b[0m\u001b[37m\u001b[0m \u001b[1m4s\u001b[0m 136ms/step - loss: 4.0588e-04 - val_loss: 5.9398e-04\n",
      "Epoch 69/100\n",
      "\u001b[1m26/26\u001b[0m \u001b[32m━━━━━━━━━━━━━━━━━━━━\u001b[0m\u001b[37m\u001b[0m \u001b[1m3s\u001b[0m 127ms/step - loss: 5.1585e-04 - val_loss: 4.0228e-04\n",
      "Epoch 70/100\n",
      "\u001b[1m26/26\u001b[0m \u001b[32m━━━━━━━━━━━━━━━━━━━━\u001b[0m\u001b[37m\u001b[0m \u001b[1m3s\u001b[0m 128ms/step - loss: 5.0059e-04 - val_loss: 3.8676e-04\n",
      "Epoch 71/100\n",
      "\u001b[1m26/26\u001b[0m \u001b[32m━━━━━━━━━━━━━━━━━━━━\u001b[0m\u001b[37m\u001b[0m \u001b[1m3s\u001b[0m 129ms/step - loss: 3.8192e-04 - val_loss: 3.8263e-04\n",
      "Epoch 72/100\n",
      "\u001b[1m26/26\u001b[0m \u001b[32m━━━━━━━━━━━━━━━━━━━━\u001b[0m\u001b[37m\u001b[0m \u001b[1m3s\u001b[0m 129ms/step - loss: 4.1961e-04 - val_loss: 3.6957e-04\n",
      "Epoch 73/100\n",
      "\u001b[1m26/26\u001b[0m \u001b[32m━━━━━━━━━━━━━━━━━━━━\u001b[0m\u001b[37m\u001b[0m \u001b[1m3s\u001b[0m 130ms/step - loss: 3.9858e-04 - val_loss: 4.0384e-04\n",
      "Epoch 74/100\n",
      "\u001b[1m26/26\u001b[0m \u001b[32m━━━━━━━━━━━━━━━━━━━━\u001b[0m\u001b[37m\u001b[0m \u001b[1m3s\u001b[0m 124ms/step - loss: 4.3818e-04 - val_loss: 3.9560e-04\n",
      "Epoch 75/100\n",
      "\u001b[1m26/26\u001b[0m \u001b[32m━━━━━━━━━━━━━━━━━━━━\u001b[0m\u001b[37m\u001b[0m \u001b[1m3s\u001b[0m 134ms/step - loss: 3.9288e-04 - val_loss: 3.5218e-04\n",
      "Epoch 76/100\n",
      "\u001b[1m26/26\u001b[0m \u001b[32m━━━━━━━━━━━━━━━━━━━━\u001b[0m\u001b[37m\u001b[0m \u001b[1m3s\u001b[0m 127ms/step - loss: 3.8679e-04 - val_loss: 5.8528e-04\n",
      "Epoch 77/100\n",
      "\u001b[1m26/26\u001b[0m \u001b[32m━━━━━━━━━━━━━━━━━━━━\u001b[0m\u001b[37m\u001b[0m \u001b[1m3s\u001b[0m 124ms/step - loss: 4.5698e-04 - val_loss: 3.5424e-04\n",
      "Epoch 78/100\n",
      "\u001b[1m26/26\u001b[0m \u001b[32m━━━━━━━━━━━━━━━━━━━━\u001b[0m\u001b[37m\u001b[0m \u001b[1m3s\u001b[0m 132ms/step - loss: 3.9698e-04 - val_loss: 3.6055e-04\n",
      "Epoch 79/100\n",
      "\u001b[1m26/26\u001b[0m \u001b[32m━━━━━━━━━━━━━━━━━━━━\u001b[0m\u001b[37m\u001b[0m \u001b[1m4s\u001b[0m 140ms/step - loss: 3.5725e-04 - val_loss: 3.2809e-04\n",
      "Epoch 80/100\n",
      "\u001b[1m26/26\u001b[0m \u001b[32m━━━━━━━━━━━━━━━━━━━━\u001b[0m\u001b[37m\u001b[0m \u001b[1m3s\u001b[0m 131ms/step - loss: 3.2873e-04 - val_loss: 3.2270e-04\n",
      "Epoch 81/100\n",
      "\u001b[1m26/26\u001b[0m \u001b[32m━━━━━━━━━━━━━━━━━━━━\u001b[0m\u001b[37m\u001b[0m \u001b[1m4s\u001b[0m 137ms/step - loss: 3.3448e-04 - val_loss: 3.3676e-04\n",
      "Epoch 82/100\n",
      "\u001b[1m26/26\u001b[0m \u001b[32m━━━━━━━━━━━━━━━━━━━━\u001b[0m\u001b[37m\u001b[0m \u001b[1m3s\u001b[0m 130ms/step - loss: 3.3931e-04 - val_loss: 3.2499e-04\n",
      "Epoch 83/100\n",
      "\u001b[1m26/26\u001b[0m \u001b[32m━━━━━━━━━━━━━━━━━━━━\u001b[0m\u001b[37m\u001b[0m \u001b[1m4s\u001b[0m 136ms/step - loss: 3.6458e-04 - val_loss: 3.0743e-04\n",
      "Epoch 84/100\n",
      "\u001b[1m26/26\u001b[0m \u001b[32m━━━━━━━━━━━━━━━━━━━━\u001b[0m\u001b[37m\u001b[0m \u001b[1m3s\u001b[0m 127ms/step - loss: 3.1451e-04 - val_loss: 3.1886e-04\n",
      "Epoch 85/100\n",
      "\u001b[1m26/26\u001b[0m \u001b[32m━━━━━━━━━━━━━━━━━━━━\u001b[0m\u001b[37m\u001b[0m \u001b[1m3s\u001b[0m 125ms/step - loss: 3.1894e-04 - val_loss: 3.0036e-04\n",
      "Epoch 86/100\n",
      "\u001b[1m26/26\u001b[0m \u001b[32m━━━━━━━━━━━━━━━━━━━━\u001b[0m\u001b[37m\u001b[0m \u001b[1m3s\u001b[0m 134ms/step - loss: 3.1596e-04 - val_loss: 3.0136e-04\n",
      "Epoch 87/100\n",
      "\u001b[1m26/26\u001b[0m \u001b[32m━━━━━━━━━━━━━━━━━━━━\u001b[0m\u001b[37m\u001b[0m \u001b[1m3s\u001b[0m 130ms/step - loss: 3.7415e-04 - val_loss: 3.0612e-04\n",
      "Epoch 88/100\n",
      "\u001b[1m26/26\u001b[0m \u001b[32m━━━━━━━━━━━━━━━━━━━━\u001b[0m\u001b[37m\u001b[0m \u001b[1m3s\u001b[0m 129ms/step - loss: 3.9013e-04 - val_loss: 4.7134e-04\n",
      "Epoch 89/100\n",
      "\u001b[1m26/26\u001b[0m \u001b[32m━━━━━━━━━━━━━━━━━━━━\u001b[0m\u001b[37m\u001b[0m \u001b[1m3s\u001b[0m 125ms/step - loss: 3.4061e-04 - val_loss: 3.2899e-04\n",
      "Epoch 90/100\n",
      "\u001b[1m26/26\u001b[0m \u001b[32m━━━━━━━━━━━━━━━━━━━━\u001b[0m\u001b[37m\u001b[0m \u001b[1m3s\u001b[0m 130ms/step - loss: 3.1073e-04 - val_loss: 3.9187e-04\n",
      "Epoch 91/100\n",
      "\u001b[1m26/26\u001b[0m \u001b[32m━━━━━━━━━━━━━━━━━━━━\u001b[0m\u001b[37m\u001b[0m \u001b[1m3s\u001b[0m 134ms/step - loss: 3.5051e-04 - val_loss: 4.6413e-04\n",
      "Epoch 92/100\n",
      "\u001b[1m26/26\u001b[0m \u001b[32m━━━━━━━━━━━━━━━━━━━━\u001b[0m\u001b[37m\u001b[0m \u001b[1m3s\u001b[0m 124ms/step - loss: 3.6936e-04 - val_loss: 3.1818e-04\n",
      "Epoch 93/100\n",
      "\u001b[1m26/26\u001b[0m \u001b[32m━━━━━━━━━━━━━━━━━━━━\u001b[0m\u001b[37m\u001b[0m \u001b[1m3s\u001b[0m 129ms/step - loss: 3.7484e-04 - val_loss: 2.7883e-04\n",
      "Epoch 94/100\n",
      "\u001b[1m26/26\u001b[0m \u001b[32m━━━━━━━━━━━━━━━━━━━━\u001b[0m\u001b[37m\u001b[0m \u001b[1m3s\u001b[0m 125ms/step - loss: 2.6967e-04 - val_loss: 2.6489e-04\n",
      "Epoch 95/100\n",
      "\u001b[1m26/26\u001b[0m \u001b[32m━━━━━━━━━━━━━━━━━━━━\u001b[0m\u001b[37m\u001b[0m \u001b[1m4s\u001b[0m 152ms/step - loss: 2.9831e-04 - val_loss: 6.0629e-04\n",
      "Epoch 96/100\n",
      "\u001b[1m26/26\u001b[0m \u001b[32m━━━━━━━━━━━━━━━━━━━━\u001b[0m\u001b[37m\u001b[0m \u001b[1m4s\u001b[0m 147ms/step - loss: 3.9944e-04 - val_loss: 2.9621e-04\n",
      "Epoch 97/100\n",
      "\u001b[1m26/26\u001b[0m \u001b[32m━━━━━━━━━━━━━━━━━━━━\u001b[0m\u001b[37m\u001b[0m \u001b[1m4s\u001b[0m 136ms/step - loss: 2.7417e-04 - val_loss: 2.5854e-04\n",
      "Epoch 98/100\n",
      "\u001b[1m26/26\u001b[0m \u001b[32m━━━━━━━━━━━━━━━━━━━━\u001b[0m\u001b[37m\u001b[0m \u001b[1m3s\u001b[0m 134ms/step - loss: 2.8066e-04 - val_loss: 2.5044e-04\n",
      "Epoch 99/100\n",
      "\u001b[1m26/26\u001b[0m \u001b[32m━━━━━━━━━━━━━━━━━━━━\u001b[0m\u001b[37m\u001b[0m \u001b[1m4s\u001b[0m 148ms/step - loss: 2.5358e-04 - val_loss: 2.5824e-04\n",
      "Epoch 100/100\n",
      "\u001b[1m26/26\u001b[0m \u001b[32m━━━━━━━━━━━━━━━━━━━━\u001b[0m\u001b[37m\u001b[0m \u001b[1m3s\u001b[0m 125ms/step - loss: 2.7858e-04 - val_loss: 3.1971e-04\n"
     ]
    },
    {
     "data": {
      "text/plain": [
       "<keras.callbacks.history.History at 0x1738d52a4e0>"
      ]
     },
     "execution_count": 37,
     "metadata": {},
     "output_type": "execute_result"
    }
   ],
   "source": [
    "model.fit(X_train,y_train,validation_data=(X_test,y_test),epochs=100,batch_size=64,verbose=1)"
   ]
  },
  {
   "cell_type": "code",
   "execution_count": 70,
   "id": "07d03c85-1f17-4199-90ab-9603115e6e5e",
   "metadata": {},
   "outputs": [
    {
     "name": "stdout",
     "output_type": "stream",
     "text": [
      "\u001b[1m52/52\u001b[0m \u001b[32m━━━━━━━━━━━━━━━━━━━━\u001b[0m\u001b[37m\u001b[0m \u001b[1m4s\u001b[0m 69ms/step - loss: 3.4491e-04\n",
      "\u001b[1m21/21\u001b[0m \u001b[32m━━━━━━━━━━━━━━━━━━━━\u001b[0m\u001b[37m\u001b[0m \u001b[1m0s\u001b[0m 20ms/step\n"
     ]
    }
   ],
   "source": [
    "model.fit(X_train,y_train)\n",
    "y_pred = model.predict(X_test)"
   ]
  },
  {
   "cell_type": "code",
   "execution_count": 79,
   "id": "e79be8ad-cc82-49a4-8df2-de2726d4da40",
   "metadata": {},
   "outputs": [
    {
     "data": {
      "text/plain": [
       "<matplotlib.legend.Legend at 0x1739d56a060>"
      ]
     },
     "execution_count": 79,
     "metadata": {},
     "output_type": "execute_result"
    },
    {
     "data": {
      "image/png": "[encoded data removed]",
      "text/plain": [
       "<Figure size 640x480 with 1 Axes>"
      ]
     },
     "metadata": {},
     "output_type": "display_data"
    }
   ],
   "source": [
    "x = np.arange(X_test.shape[0])\n",
    "plt.plot(x,y_test,color='red',label='y_test')\n",
    "plt.plot(x,y_pred,color='black',label='y_pred')\n",
    "plt.legend()"
   ]
  },
  {
   "cell_type": "code",
   "execution_count": 74,
   "id": "14eaf176-9a39-4c34-9aae-c39d7ecda8d5",
   "metadata": {},
   "outputs": [
    {
     "name": "stdout",
     "output_type": "stream",
     "text": [
      "\u001b[1m52/52\u001b[0m \u001b[32m━━━━━━━━━━━━━━━━━━━━\u001b[0m\u001b[37m\u001b[0m \u001b[1m3s\u001b[0m 45ms/step\n",
      "\u001b[1m21/21\u001b[0m \u001b[32m━━━━━━━━━━━━━━━━━━━━\u001b[0m\u001b[37m\u001b[0m \u001b[1m1s\u001b[0m 49ms/step\n"
     ]
    }
   ],
   "source": [
    "train_predict = model.predict(X_train)\n",
    "test_predict = model.predict(X_test)"
   ]
  },
  {
   "cell_type": "code",
   "execution_count": null,
   "id": "fb79dd62-12b8-426e-a822-2505443d460b",
   "metadata": {},
   "outputs": [],
   "source": []
  },
  {
   "cell_type": "code",
   "execution_count": 62,
   "id": "6b7fb090-fa24-459e-827e-cb73748d5e79",
   "metadata": {},
   "outputs": [],
   "source": [
    "train_predict = scaler.inverse_transform(train_predict)\n",
    "test_predict = scaler.inverse_transform(test_predict)"
   ]
  },
  {
   "cell_type": "code",
   "execution_count": 66,
   "id": "1e3e5d45-8b82-4ca9-9e37-6abbfda49431",
   "metadata": {},
   "outputs": [
    {
     "data": {
      "text/plain": [
       "52.69014617242279"
      ]
     },
     "execution_count": 66,
     "metadata": {},
     "output_type": "execute_result"
    }
   ],
   "source": [
    "# calculating RMSE performance metrics\n",
    "from sklearn.metrics import mean_squared_error\n",
    "import math\n",
    "math.sqrt(mean_squared_error(y_train,train_predict))"
   ]
  },
  {
   "cell_type": "code",
   "execution_count": 64,
   "id": "41c50fd8-bbf4-4271-9895-1730988c4835",
   "metadata": {},
   "outputs": [
    {
     "data": {
      "text/plain": [
       "47.67029671851179"
      ]
     },
     "execution_count": 64,
     "metadata": {},
     "output_type": "execute_result"
    }
   ],
   "source": [
    "math.sqrt(mean_squared_error(y_test,test_predict))"
   ]
  },
  {
   "cell_type": "code",
   "execution_count": 83,
   "id": "db3fbc07-e1e7-47c2-8a79-b4e5bb2ae00c",
   "metadata": {},
   "outputs": [
    {
     "data": {
      "text/plain": [
       "(1660, 100, 1)"
      ]
     },
     "execution_count": 83,
     "metadata": {},
     "output_type": "execute_result"
    }
   ],
   "source": [
    "X_train.shape"
   ]
  },
  {
   "cell_type": "code",
   "execution_count": 85,
   "id": "da1ce37a-a82c-46f3-9acb-cde338a633f1",
   "metadata": {},
   "outputs": [
    {
     "data": {
      "text/plain": [
       "(1660,)"
      ]
     },
     "execution_count": 85,
     "metadata": {},
     "output_type": "execute_result"
    }
   ],
   "source": [
    "y_train.shape"
   ]
  },
  {
   "cell_type": "code",
   "execution_count": 95,
   "id": "7fb7494c-3cc1-46fe-b6da-37bd86330912",
   "metadata": {},
   "outputs": [],
   "source": [
    "x = X_train[:1]"
   ]
  },
  {
   "cell_type": "code",
   "execution_count": 99,
   "id": "850909f9-fd75-4b1e-9ef9-c2d0a6370606",
   "metadata": {},
   "outputs": [
    {
     "name": "stdout",
     "output_type": "stream",
     "text": [
      "\u001b[1m1/1\u001b[0m \u001b[32m━━━━━━━━━━━━━━━━━━━━\u001b[0m\u001b[37m\u001b[0m \u001b[1m0s\u001b[0m 57ms/step\n"
     ]
    },
    {
     "data": {
      "text/plain": [
       "0.06958318"
      ]
     },
     "execution_count": 99,
     "metadata": {},
     "output_type": "execute_result"
    }
   ],
   "source": [
    "model.predict(x)[0][0]"
   ]
  },
  {
   "cell_type": "code",
   "execution_count": 102,
   "id": "4f2ee5d7-91aa-408f-8ccd-bddb4fddf101",
   "metadata": {},
   "outputs": [
    {
     "name": "stderr",
     "output_type": "stream",
     "text": [
      "WARNING:absl:You are saving your model as an HDF5 file via `model.save()` or `keras.saving.save_model(model)`. This file format is considered legacy. We recommend using instead the native Keras format, e.g. `model.save('my_model.keras')` or `keras.saving.save_model(model, 'my_model.keras')`. \n"
     ]
    }
   ],
   "source": [
    "model.save('stockpredict.h5')"
   ]
  },
  {
   "cell_type": "code",
   "execution_count": 105,
   "id": "9b51742f-f5ed-44f5-919a-cd8183d67520",
   "metadata": {},
   "outputs": [
    {
     "name": "stdout",
     "output_type": "stream",
     "text": [
      "\u001b[1m21/21\u001b[0m \u001b[32m━━━━━━━━━━━━━━━━━━━━\u001b[0m\u001b[37m\u001b[0m \u001b[1m1s\u001b[0m 18ms/step\n"
     ]
    }
   ],
   "source": [
    "y_predicted = model.predict(X_test)\n",
    "y_predicted = scaler.inverse_transform(y_predicted)\n",
    "y_test = y_test.reshape(-1, 1)\n",
    "y_test = scaler.inverse_transform(y_test)"
   ]
  },
  {
   "cell_type": "code",
   "execution_count": 106,
   "id": "7800bde0-04e6-45e2-9d39-b2d1c44b506f",
   "metadata": {},
   "outputs": [
    {
     "data": {
      "text/plain": [
       "<matplotlib.legend.Legend at 0x1739e7d9f40>"
      ]
     },
     "execution_count": 106,
     "metadata": {},
     "output_type": "execute_result"
    },
    {
     "data": {
      "image/png": "[encoded data removed]",
      "text/plain": [
       "<Figure size 1200x600 with 1 Axes>"
      ]
     },
     "metadata": {},
     "output_type": "display_data"
    }
   ],
   "source": [
    "fig2 = plt.figure(figsize=(12,6))\n",
    "plt.plot(y_test,'b',label='Original Price')\n",
    "plt.plot(y_predicted,'r',label='Predicted Price')\n",
    "plt.xlabel('Time')\n",
    "plt.ylabel('Price')\n",
    "plt.legend()"
   ]
  },
  {
   "cell_type": "code",
   "execution_count": null,
   "id": "18cb4549-bbbd-4b88-993a-3d989591da2c",
   "metadata": {},
   "outputs": [],
   "source": []
  }
 ],
 "metadata": {
  "kernelspec": {
   "display_name": "Python 3 (ipykernel)",
   "language": "python",
   "name": "python3"
  },
  "language_info": {
   "codemirror_mode": {
    "name": "ipython",
    "version": 3
   },
   "file_extension": ".py",
   "mimetype": "text/x-python",
   "name": "python",
   "nbconvert_exporter": "python",
   "pygments_lexer": "ipython3",
   "version": "3.12.3"
  }
 },
 "nbformat": 4,
 "nbformat_minor": 5
}
